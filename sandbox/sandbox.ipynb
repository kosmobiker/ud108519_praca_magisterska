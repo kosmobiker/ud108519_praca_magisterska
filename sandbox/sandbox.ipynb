{
 "cells": [
  {
   "cell_type": "code",
   "execution_count": 35,
   "metadata": {},
   "outputs": [],
   "source": [
    "import json\n",
    "from functools import lru_cache\n",
    "from typing import List\n",
    "\n",
    "import pandas as pd\n",
    "import requests\n",
    "from pydantic import BaseModel, confloat, AnyUrl,conint\n",
    "from ratelimit import RateLimitException, limits\n",
    "from tenacity import *\n",
    "from yarl import URL"
   ]
  },
  {
   "cell_type": "code",
   "execution_count": 2,
   "metadata": {},
   "outputs": [],
   "source": [
    "API_ENDPOINT = URL(\"https://api.coingecko.com/api/v3\")"
   ]
  },
  {
   "cell_type": "code",
   "execution_count": 25,
   "metadata": {},
   "outputs": [],
   "source": [
    "@retry(\n",
    "    retry=retry_if_exception_type(requests.exceptions.RequestException),\n",
    "    wait=wait_exponential(max=60),\n",
    "    stop=stop_after_attempt(3),\n",
    ")\n",
    "@retry(\n",
    "    retry=retry_if_exception_type(RateLimitException),\n",
    "    wait=wait_fixed(60),\n",
    "    stop=stop_after_delay(360),\n",
    ")\n",
    "@limits(calls=50, period=60)\n",
    "def call_get(url: URL, params: dict) -> str:\n",
    "    return requests.get(url.update_query(params)).text"
   ]
  },
  {
   "cell_type": "code",
   "execution_count": 45,
   "metadata": {},
   "outputs": [],
   "source": [
    "class MarketDataInfo(BaseModel):\n",
    "    id: str\n",
    "    symbol: str\n",
    "    current_price: float\n",
    "    market_cap: int\n",
    "    image: AnyUrl\n",
    "\n"
   ]
  },
  {
   "cell_type": "code",
   "execution_count": 47,
   "metadata": {},
   "outputs": [],
   "source": [
    "def parse_result(result) -> MarketDataInfo:\n",
    "    return MarketDataInfo(\n",
    "        id=result[\"id\"],\n",
    "        symbol=result[\"symbol\"],\n",
    "        current_price=result[\"current_price\"],\n",
    "        market_cap=result[\"market_cap\"],\n",
    "        image=result[\"image\"]\n",
    "    )"
   ]
  },
  {
   "cell_type": "code",
   "execution_count": 8,
   "metadata": {},
   "outputs": [],
   "source": [
    "list_of_coins = pd.read_csv(\"/home/vlad/master_project/data/coin_list/list_of_coins.csv\")['id'].to_list()"
   ]
  },
  {
   "cell_type": "code",
   "execution_count": 65,
   "metadata": {},
   "outputs": [],
   "source": [
    "def get_historical_data(id: str) -> List[str]:\n",
    "    return [i \n",
    "        for i in json.loads(\n",
    "            call_get(API_ENDPOINT / \"coins\" / id / \"market_chart\", {\"vs_currency\" : \"usd\", \"days\" : \"max\"})\n",
    "        )\n",
    "    ]"
   ]
  },
  {
   "cell_type": "code",
   "execution_count": 66,
   "metadata": {},
   "outputs": [],
   "source": [
    "class GetHistoricalData(BaseModel):\n",
    "    timestamp: int\n",
    "    price: confloat(ge=0)  \n",
    "    market_caps: confloat(ge=0)\n",
    "    total_volumes: conint(ge=0)\n"
   ]
  },
  {
   "cell_type": "code",
   "execution_count": 67,
   "metadata": {},
   "outputs": [],
   "source": [
    "a = get_historical_data('bitcoin')"
   ]
  },
  {
   "cell_type": "code",
   "execution_count": 68,
   "metadata": {},
   "outputs": [
    {
     "data": {
      "text/plain": [
       "['prices', 'market_caps', 'total_volumes']"
      ]
     },
     "execution_count": 68,
     "metadata": {},
     "output_type": "execute_result"
    }
   ],
   "source": [
    "a"
   ]
  },
  {
   "cell_type": "code",
   "execution_count": null,
   "metadata": {},
   "outputs": [],
   "source": []
  }
 ],
 "metadata": {
  "interpreter": {
   "hash": "b60e44f8122f2f435490d6fa5dce1b580a7583eee9b12ed3a9c2b1ff149db1ba"
  },
  "kernelspec": {
   "display_name": "Python 3.7.0 64-bit ('base': conda)",
   "name": "python3"
  },
  "language_info": {
   "codemirror_mode": {
    "name": "ipython",
    "version": 3
   },
   "file_extension": ".py",
   "mimetype": "text/x-python",
   "name": "python",
   "nbconvert_exporter": "python",
   "pygments_lexer": "ipython3",
   "version": "3.9.5"
  },
  "orig_nbformat": 4
 },
 "nbformat": 4,
 "nbformat_minor": 2
}
