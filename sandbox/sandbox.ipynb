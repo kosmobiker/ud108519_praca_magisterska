{
 "cells": [
  {
   "cell_type": "code",
   "execution_count": 2,
   "metadata": {},
   "outputs": [],
   "source": [
    "import json\n",
    "from functools import lru_cache\n",
    "from typing import List\n",
    "\n",
    "import pandas as pd\n",
    "import requests\n",
    "from pydantic import BaseModel, confloat, AnyUrl\n",
    "from ratelimit import RateLimitException, limits\n",
    "from tenacity import *\n",
    "from yarl import URL"
   ]
  },
  {
   "cell_type": "code",
   "execution_count": 3,
   "metadata": {},
   "outputs": [],
   "source": [
    "API_ENDPOINT = URL(\"https://api.coingecko.com/api/v3\")"
   ]
  },
  {
   "cell_type": "code",
   "execution_count": 4,
   "metadata": {},
   "outputs": [],
   "source": [
    "@retry(\n",
    "    retry=retry_if_exception_type(requests.exceptions.RequestException),\n",
    "    wait=wait_exponential(max=60),\n",
    "    stop=stop_after_attempt(3),\n",
    ")\n",
    "@retry(\n",
    "    retry=retry_if_exception_type(RateLimitException),\n",
    "    wait=wait_fixed(60),\n",
    "    stop=stop_after_delay(360),\n",
    ")\n",
    "@limits(calls=50, period=60)\n",
    "def call_get(url: URL, params: dict) -> str:\n",
    "    return requests.get(url.update_query(params)).text"
   ]
  },
  {
   "cell_type": "code",
   "execution_count": 13,
   "metadata": {},
   "outputs": [],
   "source": [
    "def get_coin_list() -> List[str]:\n",
    "    return [\n",
    "        result for result in json.loads(\n",
    "            call_get(API_ENDPOINT / \"coins/list\", dict())\n",
    "        )\n",
    "    ]"
   ]
  },
  {
   "cell_type": "code",
   "execution_count": 14,
   "metadata": {},
   "outputs": [],
   "source": [
    "# dict_market_data = {'vs_currency' : 'usd', 'per_page' : '250'}"
   ]
  },
  {
   "cell_type": "code",
   "execution_count": 15,
   "metadata": {},
   "outputs": [
    {
     "data": {
      "text/html": [
       "<div>\n",
       "<style scoped>\n",
       "    .dataframe tbody tr th:only-of-type {\n",
       "        vertical-align: middle;\n",
       "    }\n",
       "\n",
       "    .dataframe tbody tr th {\n",
       "        vertical-align: top;\n",
       "    }\n",
       "\n",
       "    .dataframe thead th {\n",
       "        text-align: right;\n",
       "    }\n",
       "</style>\n",
       "<table border=\"1\" class=\"dataframe\">\n",
       "  <thead>\n",
       "    <tr style=\"text-align: right;\">\n",
       "      <th></th>\n",
       "      <th>id</th>\n",
       "      <th>symbol</th>\n",
       "      <th>name</th>\n",
       "    </tr>\n",
       "  </thead>\n",
       "  <tbody>\n",
       "    <tr>\n",
       "      <th>0</th>\n",
       "      <td></td>\n",
       "      <td>aapt</td>\n",
       "      <td>AAptitude</td>\n",
       "    </tr>\n",
       "    <tr>\n",
       "      <th>1</th>\n",
       "      <td>01coin</td>\n",
       "      <td>zoc</td>\n",
       "      <td>01coin</td>\n",
       "    </tr>\n",
       "    <tr>\n",
       "      <th>2</th>\n",
       "      <td>0-5x-long-algorand-token</td>\n",
       "      <td>algohalf</td>\n",
       "      <td>0.5X Long Algorand Token</td>\n",
       "    </tr>\n",
       "    <tr>\n",
       "      <th>3</th>\n",
       "      <td>0-5x-long-altcoin-index-token</td>\n",
       "      <td>althalf</td>\n",
       "      <td>0.5X Long Altcoin Index Token</td>\n",
       "    </tr>\n",
       "    <tr>\n",
       "      <th>4</th>\n",
       "      <td>0-5x-long-ascendex-token-token</td>\n",
       "      <td>asdhalf</td>\n",
       "      <td>0.5X Long AscendEx Token Token</td>\n",
       "    </tr>\n",
       "    <tr>\n",
       "      <th>...</th>\n",
       "      <td>...</td>\n",
       "      <td>...</td>\n",
       "      <td>...</td>\n",
       "    </tr>\n",
       "    <tr>\n",
       "      <th>13086</th>\n",
       "      <td>zyro</td>\n",
       "      <td>zyro</td>\n",
       "      <td>Zyro</td>\n",
       "    </tr>\n",
       "    <tr>\n",
       "      <th>13087</th>\n",
       "      <td>zyrri</td>\n",
       "      <td>zyr</td>\n",
       "      <td>Zyrri</td>\n",
       "    </tr>\n",
       "    <tr>\n",
       "      <th>13088</th>\n",
       "      <td>zytara-dollar</td>\n",
       "      <td>zusd</td>\n",
       "      <td>Zytara Dollar</td>\n",
       "    </tr>\n",
       "    <tr>\n",
       "      <th>13089</th>\n",
       "      <td>zyx</td>\n",
       "      <td>zyx</td>\n",
       "      <td>ZYX</td>\n",
       "    </tr>\n",
       "    <tr>\n",
       "      <th>13090</th>\n",
       "      <td>zzz-finance-v2</td>\n",
       "      <td>zzzv2</td>\n",
       "      <td>zzz.finance v2</td>\n",
       "    </tr>\n",
       "  </tbody>\n",
       "</table>\n",
       "<p>13091 rows × 3 columns</p>\n",
       "</div>"
      ],
      "text/plain": [
       "                                   id    symbol  \\\n",
       "0                                          aapt   \n",
       "1                              01coin       zoc   \n",
       "2            0-5x-long-algorand-token  algohalf   \n",
       "3       0-5x-long-altcoin-index-token   althalf   \n",
       "4      0-5x-long-ascendex-token-token   asdhalf   \n",
       "...                               ...       ...   \n",
       "13086                            zyro      zyro   \n",
       "13087                           zyrri       zyr   \n",
       "13088                   zytara-dollar      zusd   \n",
       "13089                             zyx       zyx   \n",
       "13090                  zzz-finance-v2     zzzv2   \n",
       "\n",
       "                                 name  \n",
       "0                           AAptitude  \n",
       "1                              01coin  \n",
       "2            0.5X Long Algorand Token  \n",
       "3       0.5X Long Altcoin Index Token  \n",
       "4      0.5X Long AscendEx Token Token  \n",
       "...                               ...  \n",
       "13086                            Zyro  \n",
       "13087                           Zyrri  \n",
       "13088                   Zytara Dollar  \n",
       "13089                             ZYX  \n",
       "13090                  zzz.finance v2  \n",
       "\n",
       "[13091 rows x 3 columns]"
      ]
     },
     "execution_count": 15,
     "metadata": {},
     "output_type": "execute_result"
    }
   ],
   "source": [
    "pd.json_normalize(get_coin_list())"
   ]
  },
  {
   "cell_type": "code",
   "execution_count": null,
   "metadata": {},
   "outputs": [],
   "source": []
  },
  {
   "cell_type": "code",
   "execution_count": null,
   "metadata": {},
   "outputs": [],
   "source": []
  },
  {
   "cell_type": "code",
   "execution_count": 45,
   "metadata": {},
   "outputs": [],
   "source": [
    "class MarketDataInfo(BaseModel):\n",
    "    id: str\n",
    "    symbol: str\n",
    "    current_price: float\n",
    "    market_cap: int\n",
    "    image: AnyUrl\n",
    "\n"
   ]
  },
  {
   "cell_type": "code",
   "execution_count": 47,
   "metadata": {},
   "outputs": [],
   "source": [
    "def parse_result(result) -> MarketDataInfo:\n",
    "    return MarketDataInfo(\n",
    "        id=result[\"id\"],\n",
    "        symbol=result[\"symbol\"],\n",
    "        current_price=result[\"current_price\"],\n",
    "        market_cap=result[\"market_cap\"],\n",
    "        image=result[\"image\"]\n",
    "    )"
   ]
  },
  {
   "cell_type": "code",
   "execution_count": 48,
   "metadata": {},
   "outputs": [],
   "source": [
    "def get_market_data(page: int) -> List[str]:\n",
    "    return [\n",
    "        parse_result(result)\n",
    "        for result in json.loads(\n",
    "            call_get(API_ENDPOINT / \"coins/markets\", dict_market_data)\n",
    "        )\n",
    "    ]"
   ]
  },
  {
   "cell_type": "code",
   "execution_count": 50,
   "metadata": {},
   "outputs": [],
   "source": [
    "def create_df() -> pd.DataFrame:\n",
    "    return pd.DataFrame([item.dict() for item in get_market_data()])"
   ]
  },
  {
   "cell_type": "code",
   "execution_count": null,
   "metadata": {},
   "outputs": [],
   "source": []
  }
 ],
 "metadata": {
  "interpreter": {
   "hash": "b60e44f8122f2f435490d6fa5dce1b580a7583eee9b12ed3a9c2b1ff149db1ba"
  },
  "kernelspec": {
   "display_name": "Python 3.7.0 64-bit ('base': conda)",
   "name": "python3"
  },
  "language_info": {
   "codemirror_mode": {
    "name": "ipython",
    "version": 3
   },
   "file_extension": ".py",
   "mimetype": "text/x-python",
   "name": "python",
   "nbconvert_exporter": "python",
   "pygments_lexer": "ipython3",
   "version": "3.9.5"
  },
  "orig_nbformat": 4
 },
 "nbformat": 4,
 "nbformat_minor": 2
}
