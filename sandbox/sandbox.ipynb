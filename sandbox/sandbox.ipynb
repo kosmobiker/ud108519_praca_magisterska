{
 "cells": [
  {
   "cell_type": "code",
   "execution_count": 158,
   "metadata": {},
   "outputs": [],
   "source": [
    "import json\n",
    "from functools import lru_cache\n",
    "from operator import itemgetter\n",
    "from typing import List\n",
    "import boto3\n",
    "import pandas as pd\n",
    "import requests\n",
    "from datetime import datetime\n",
    "from pydantic import BaseModel, confloat, AnyUrl,conint\n",
    "from ratelimit import RateLimitException, limits\n",
    "from tenacity import *\n",
    "from yarl import URL\n",
    "import awswrangler as wr"
   ]
  },
  {
   "cell_type": "code",
   "execution_count": 4,
   "metadata": {},
   "outputs": [],
   "source": [
    "API_ENDPOINT = URL(\"https://api.coingecko.com/api/v3\")"
   ]
  },
  {
   "cell_type": "code",
   "execution_count": 5,
   "metadata": {},
   "outputs": [],
   "source": [
    "session = boto3.Session(profile_name='master')"
   ]
  },
  {
   "cell_type": "code",
   "execution_count": 6,
   "metadata": {},
   "outputs": [],
   "source": [
    "@retry(\n",
    "    retry=retry_if_exception_type(requests.exceptions.RequestException),\n",
    "    wait=wait_exponential(max=60),\n",
    "    stop=stop_after_attempt(3),\n",
    ")\n",
    "@retry(\n",
    "    retry=retry_if_exception_type(RateLimitException),\n",
    "    wait=wait_fixed(60),\n",
    "    stop=stop_after_delay(360),\n",
    ")\n",
    "@limits(calls=50, period=60)\n",
    "def call_get(url: URL, params: dict) -> str:\n",
    "    return requests.get(url.update_query(params)).text"
   ]
  },
  {
   "cell_type": "code",
   "execution_count": 7,
   "metadata": {},
   "outputs": [],
   "source": [
    "class MarketDataInfo(BaseModel):\n",
    "    id: str\n",
    "    symbol: str\n",
    "    current_price: float\n",
    "    market_cap: int"
   ]
  },
  {
   "cell_type": "code",
   "execution_count": 8,
   "metadata": {},
   "outputs": [],
   "source": [
    "params = {\n",
    "    'vs_currency' : \"usd\",\n",
    "    'days' : \"1\"\n",
    "}\n",
    "res = json.loads(call_get(API_ENDPOINT / \"coins\" / 'bitcoin' / 'ohlc', params))"
   ]
  },
  {
   "cell_type": "code",
   "execution_count": 9,
   "metadata": {},
   "outputs": [],
   "source": [
    "df = pd.DataFrame(res, columns=['timestamp', 'open', 'high', 'low', 'close'])\n",
    "df['datetime'] = pd.to_datetime(df['timestamp'], unit='ms')\n",
    "df['coin'] = 'bitcoin'\n",
    "df['formated_date'] = df['datetime'].dt.strftime('%Y-%m-%d')"
   ]
  },
  {
   "cell_type": "code",
   "execution_count": 10,
   "metadata": {},
   "outputs": [],
   "source": [
    "r2 = json.loads(call_get(API_ENDPOINT / \"coins\" / 'bitcoin' / \"market_chart\", {\"vs_currency\" : \"usd\", \"days\" : \"max\"}))"
   ]
  },
  {
   "cell_type": "code",
   "execution_count": 107,
   "metadata": {},
   "outputs": [],
   "source": [
    "def transform_json_dataframe(data: dict):\n",
    "    ts = [i[0] for i in data['prices']]\n",
    "    prices = [i[1] for i in data['prices']]\n",
    "    market_caps = [i[1] for i in data['market_caps']]\n",
    "    total_volumes = [i[1] for i in data['total_volumes']]\n",
    "    temp = pd.DataFrame({\n",
    "        \"timestamp\" : ts,\n",
    "        \"prices\" : prices,\n",
    "        \"market_caps\" : market_caps,\n",
    "        \"total_volumes\" : total_volumes,\n",
    "        \"formated_date\" : [datetime.fromtimestamp(i/1000).strftime('%Y-%m-%d') for i in ts]\n",
    "        })\n",
    "    temp['coin'] = 'bitcoin'\n",
    "    temp['currency'] = 'usd'\n",
    "    return temp\n"
   ]
  },
  {
   "cell_type": "code",
   "execution_count": 12,
   "metadata": {},
   "outputs": [
    {
     "data": {
      "text/plain": [
       "timestamp          int64\n",
       "prices           float64\n",
       "market_caps      float64\n",
       "total_volumes    float64\n",
       "formated_date     object\n",
       "coin              object\n",
       "currency          object\n",
       "dtype: object"
      ]
     },
     "execution_count": 12,
     "metadata": {},
     "output_type": "execute_result"
    }
   ],
   "source": [
    "transform_json_dataframe(r2).dtypes"
   ]
  },
  {
   "cell_type": "code",
   "execution_count": 105,
   "metadata": {},
   "outputs": [],
   "source": [
    "dynamo = session.resource('dynamodb')\n",
    "s3_client = session.client('s3')"
   ]
  },
  {
   "cell_type": "code",
   "execution_count": 226,
   "metadata": {},
   "outputs": [],
   "source": [
    "from boto3.dynamodb.conditions import Key\n",
    "\n",
    "def convert_lists(response):\n",
    "    paths = [i['PathS3'] for i in response]\n",
    "    tokens = [i['TokenName'] for i in response]\n",
    "    return [list(l) for l in zip(paths, tokens)]\n",
    "\n",
    "\n",
    "def scan_paths_table(type, dynamodb=None):\n",
    "    if not dynamodb:\n",
    "        dynamodb = boto3.resource('dynamodb')\n",
    "\n",
    "    table = dynamodb.Table('Pathes')\n",
    "    scan_kwargs = {\n",
    "        'FilterExpression': Key('TypeOfRecord').eq(type),\n",
    "        'ProjectionExpression': \"#pth, #tp, #tkn\",\n",
    "        'ExpressionAttributeNames': {\"#pth\": \"PathS3\", \"#tp\": \"TypeOfRecord\", \"#tkn\" : \"TokenName\"}\n",
    "    }\n",
    "    results = []\n",
    "    done = False\n",
    "    start_key = None\n",
    "    while not done:\n",
    "        if start_key:\n",
    "            scan_kwargs['ExclusiveStartKey'] = start_key\n",
    "        response = table.scan(**scan_kwargs)\n",
    "        results.extend(convert_lists(response.get('Items', [])))\n",
    "        start_key = response.get('LastEvaluatedKey', None)\n",
    "        done = start_key is None\n",
    "\n",
    "    return results\n"
   ]
  },
  {
   "cell_type": "code",
   "execution_count": 228,
   "metadata": {},
   "outputs": [
    {
     "data": {
      "text/plain": [
       "539"
      ]
     },
     "execution_count": 228,
     "metadata": {},
     "output_type": "execute_result"
    }
   ],
   "source": [
    "a = scan_paths_table('good', dynamo)\n",
    "len(a)"
   ]
  },
  {
   "cell_type": "code",
   "execution_count": 189,
   "metadata": {},
   "outputs": [],
   "source": [
    "def get_json_s3(bucket, key, s3=None):\n",
    "    \"\"\"\n",
    "    Function is used to get JSON file\n",
    "    from S3 bucket\n",
    "    \"\"\"\n",
    "    if not s3:\n",
    "        s3 = boto3.client('s3')\n",
    "    obj = s3.get_object(Bucket=bucket, Key=key)\n",
    "    data = obj['Body'].read().decode('utf-8')\n",
    "    return json.loads(data)"
   ]
  },
  {
   "cell_type": "code",
   "execution_count": 190,
   "metadata": {},
   "outputs": [],
   "source": [
    "ddd = get_json_s3('kosmobiker-masterproject', 'data/raw/baby-samo-coin_historical_prices.json', s3_client)\n",
    "df = transform_json_dataframe(ddd)"
   ]
  },
  {
   "cell_type": "code",
   "execution_count": 193,
   "metadata": {},
   "outputs": [
    {
     "name": "stdout",
     "output_type": "stream",
     "text": [
      "         Database              Description\n",
      "0  master_project  this is a test database\n"
     ]
    }
   ],
   "source": [
    "databases = wr.catalog.databases(boto3_session=session)\n",
    "print(databases)"
   ]
  },
  {
   "cell_type": "code",
   "execution_count": 205,
   "metadata": {},
   "outputs": [
    {
     "data": {
      "text/html": [
       "<div>\n",
       "<style scoped>\n",
       "    .dataframe tbody tr th:only-of-type {\n",
       "        vertical-align: middle;\n",
       "    }\n",
       "\n",
       "    .dataframe tbody tr th {\n",
       "        vertical-align: top;\n",
       "    }\n",
       "\n",
       "    .dataframe thead th {\n",
       "        text-align: right;\n",
       "    }\n",
       "</style>\n",
       "<table border=\"1\" class=\"dataframe\">\n",
       "  <thead>\n",
       "    <tr style=\"text-align: right;\">\n",
       "      <th></th>\n",
       "      <th>Database</th>\n",
       "      <th>Table</th>\n",
       "      <th>Description</th>\n",
       "      <th>Columns</th>\n",
       "      <th>Partitions</th>\n",
       "    </tr>\n",
       "  </thead>\n",
       "  <tbody>\n",
       "    <tr>\n",
       "      <th>0</th>\n",
       "      <td>master_project</td>\n",
       "      <td>historical_data</td>\n",
       "      <td></td>\n",
       "      <td>timestamp, prices, market_caps, total_volumes,...</td>\n",
       "      <td>coin</td>\n",
       "    </tr>\n",
       "  </tbody>\n",
       "</table>\n",
       "</div>"
      ],
      "text/plain": [
       "         Database            Table Description  \\\n",
       "0  master_project  historical_data               \n",
       "\n",
       "                                             Columns Partitions  \n",
       "0  timestamp, prices, market_caps, total_volumes,...       coin  "
      ]
     },
     "execution_count": 205,
     "metadata": {},
     "output_type": "execute_result"
    }
   ],
   "source": [
    "wr.catalog.tables(database=\"master_project\", boto3_session=session)\n",
    "# for table in wr.catalog.get_tables(database=\"master_project\", boto3_session=session):\n",
    "#     wr.catalog.delete_table_if_exists(database=\"master_project\", table=table[\"Name\"], boto3_session=session)"
   ]
  },
  {
   "cell_type": "code",
   "execution_count": 209,
   "metadata": {},
   "outputs": [],
   "source": [
    "bucket = 'kosmobiker-masterproject'\n",
    "res = wr.s3.to_parquet(\n",
    "    df=df,\n",
    "    index=False,\n",
    "    path=f\"s3://{bucket}/data/datalake/historical_data_parquet/\",\n",
    "    dataset=True,\n",
    "    database=\"master_project\",\n",
    "    table=\"historical_data\",\n",
    "    mode=\"overwrite\",\n",
    "    partition_cols=[\"coin\"],\n",
    "    boto3_session=session\n",
    ")"
   ]
  },
  {
   "cell_type": "code",
   "execution_count": 217,
   "metadata": {},
   "outputs": [],
   "source": [
    "dfs = wr.athena.read_sql_query(\n",
    "    \"SELECT * FROM historical_data\",\n",
    "    database=\"master_project\",\n",
    "    boto3_session=session,\n",
    "    s3_output='s3://kosmobiker-masterproject/data/athena_tmp/'\n",
    ")"
   ]
  },
  {
   "cell_type": "code",
   "execution_count": 224,
   "metadata": {},
   "outputs": [],
   "source": [
    "# client = session.client('glue')\n",
    "\n",
    "# response = client.get_tables(\n",
    "#     DatabaseName='master_project'\n",
    "# )\n",
    "# response"
   ]
  },
  {
   "cell_type": "code",
   "execution_count": 198,
   "metadata": {},
   "outputs": [
    {
     "data": {
      "text/html": [
       "<div>\n",
       "<style scoped>\n",
       "    .dataframe tbody tr th:only-of-type {\n",
       "        vertical-align: middle;\n",
       "    }\n",
       "\n",
       "    .dataframe tbody tr th {\n",
       "        vertical-align: top;\n",
       "    }\n",
       "\n",
       "    .dataframe thead th {\n",
       "        text-align: right;\n",
       "    }\n",
       "</style>\n",
       "<table border=\"1\" class=\"dataframe\">\n",
       "  <thead>\n",
       "    <tr style=\"text-align: right;\">\n",
       "      <th></th>\n",
       "      <th>Column Name</th>\n",
       "      <th>Type</th>\n",
       "      <th>Partition</th>\n",
       "      <th>Comment</th>\n",
       "    </tr>\n",
       "  </thead>\n",
       "  <tbody>\n",
       "    <tr>\n",
       "      <th>0</th>\n",
       "      <td>timestamp</td>\n",
       "      <td>bigint</td>\n",
       "      <td>False</td>\n",
       "      <td></td>\n",
       "    </tr>\n",
       "    <tr>\n",
       "      <th>1</th>\n",
       "      <td>prices</td>\n",
       "      <td>double</td>\n",
       "      <td>False</td>\n",
       "      <td></td>\n",
       "    </tr>\n",
       "    <tr>\n",
       "      <th>2</th>\n",
       "      <td>market_caps</td>\n",
       "      <td>double</td>\n",
       "      <td>False</td>\n",
       "      <td></td>\n",
       "    </tr>\n",
       "    <tr>\n",
       "      <th>3</th>\n",
       "      <td>total_volumes</td>\n",
       "      <td>double</td>\n",
       "      <td>False</td>\n",
       "      <td></td>\n",
       "    </tr>\n",
       "    <tr>\n",
       "      <th>4</th>\n",
       "      <td>coin</td>\n",
       "      <td>string</td>\n",
       "      <td>False</td>\n",
       "      <td></td>\n",
       "    </tr>\n",
       "    <tr>\n",
       "      <th>5</th>\n",
       "      <td>currency</td>\n",
       "      <td>string</td>\n",
       "      <td>False</td>\n",
       "      <td></td>\n",
       "    </tr>\n",
       "    <tr>\n",
       "      <th>6</th>\n",
       "      <td>formated_date</td>\n",
       "      <td>string</td>\n",
       "      <td>False</td>\n",
       "      <td></td>\n",
       "    </tr>\n",
       "    <tr>\n",
       "      <th>7</th>\n",
       "      <td>formated_date</td>\n",
       "      <td>string</td>\n",
       "      <td>True</td>\n",
       "      <td></td>\n",
       "    </tr>\n",
       "  </tbody>\n",
       "</table>\n",
       "</div>"
      ],
      "text/plain": [
       "     Column Name    Type  Partition Comment\n",
       "0      timestamp  bigint      False        \n",
       "1         prices  double      False        \n",
       "2    market_caps  double      False        \n",
       "3  total_volumes  double      False        \n",
       "4           coin  string      False        \n",
       "5       currency  string      False        \n",
       "6  formated_date  string      False        \n",
       "7  formated_date  string       True        "
      ]
     },
     "execution_count": 198,
     "metadata": {},
     "output_type": "execute_result"
    }
   ],
   "source": [
    "import awswrangler as wr\n",
    "wr.catalog.databases(boto3_session=session)\n",
    "wr.catalog.table(database=\"master_project\", table=\"historical_data\", boto3_session=session)"
   ]
  },
  {
   "cell_type": "code",
   "execution_count": 12,
   "metadata": {},
   "outputs": [],
   "source": [
    "def currencies_info(data: dict, list_of_keys: List[str]):\n",
    "    filtered_json = {key: data[key] for key in list_of_keys}\n",
    "    temp_df = pd.json_normalize(filtered_json)\n",
    "    temp_df['timestamp'] = datetime.now().timestamp()\n"
   ]
  },
  {
   "cell_type": "code",
   "execution_count": 93,
   "metadata": {},
   "outputs": [],
   "source": [
    "list_of_keys = ['id', 'symbol', 'name', 'hashing_algorithm', 'categories', 'genesis_date',  'sentiment_votes_up_percentage',\n",
    "                'sentiment_votes_down_percentage', 'market_cap_rank', 'coingecko_rank', 'coingecko_score', 'developer_score',\n",
    "                'community_score', 'liquidity_score', 'public_interest_score', 'last_updated']"
   ]
  },
  {
   "cell_type": "code",
   "execution_count": 94,
   "metadata": {},
   "outputs": [],
   "source": [
    "output = {key: res[key] for key in list_of_keys}"
   ]
  },
  {
   "cell_type": "code",
   "execution_count": 14,
   "metadata": {},
   "outputs": [],
   "source": [
    "session = boto3.Session(profile_name='master')"
   ]
  },
  {
   "cell_type": "code",
   "execution_count": 16,
   "metadata": {},
   "outputs": [
    {
     "data": {
      "text/html": [
       "<div>\n",
       "<style scoped>\n",
       "    .dataframe tbody tr th:only-of-type {\n",
       "        vertical-align: middle;\n",
       "    }\n",
       "\n",
       "    .dataframe tbody tr th {\n",
       "        vertical-align: top;\n",
       "    }\n",
       "\n",
       "    .dataframe thead th {\n",
       "        text-align: right;\n",
       "    }\n",
       "</style>\n",
       "<table border=\"1\" class=\"dataframe\">\n",
       "  <thead>\n",
       "    <tr style=\"text-align: right;\">\n",
       "      <th></th>\n",
       "      <th>Database</th>\n",
       "      <th>Description</th>\n",
       "    </tr>\n",
       "  </thead>\n",
       "  <tbody>\n",
       "    <tr>\n",
       "      <th>0</th>\n",
       "      <td>master_project</td>\n",
       "      <td>this is a test database</td>\n",
       "    </tr>\n",
       "  </tbody>\n",
       "</table>\n",
       "</div>"
      ],
      "text/plain": [
       "         Database              Description\n",
       "0  master_project  this is a test database"
      ]
     },
     "execution_count": 16,
     "metadata": {},
     "output_type": "execute_result"
    }
   ],
   "source": []
  },
  {
   "cell_type": "code",
   "execution_count": null,
   "metadata": {},
   "outputs": [],
   "source": []
  }
 ],
 "metadata": {
  "interpreter": {
   "hash": "b60e44f8122f2f435490d6fa5dce1b580a7583eee9b12ed3a9c2b1ff149db1ba"
  },
  "kernelspec": {
   "display_name": "Python 3.7.0 64-bit ('base': conda)",
   "name": "python3"
  },
  "language_info": {
   "codemirror_mode": {
    "name": "ipython",
    "version": 3
   },
   "file_extension": ".py",
   "mimetype": "text/x-python",
   "name": "python",
   "nbconvert_exporter": "python",
   "pygments_lexer": "ipython3",
   "version": "3.9.5"
  },
  "orig_nbformat": 4
 },
 "nbformat": 4,
 "nbformat_minor": 2
}
