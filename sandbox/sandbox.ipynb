{
 "cells": [
  {
   "cell_type": "code",
   "execution_count": 5,
   "metadata": {},
   "outputs": [],
   "source": [
    "import json\r\n",
    "from functools import lru_cache\r\n",
    "from operator import itemgetter\r\n",
    "from typing import List\r\n",
    "import boto3\r\n",
    "import pandas as pd\r\n",
    "import requests\r\n",
    "from datetime import datetime\r\n",
    "from pydantic import BaseModel, confloat, AnyUrl,conint\r\n",
    "from ratelimit import RateLimitException, limits\r\n",
    "from tenacity import *\r\n",
    "from yarl import URL"
   ]
  },
  {
   "cell_type": "code",
   "execution_count": 106,
   "metadata": {},
   "outputs": [
    {
     "data": {
      "text/plain": "1648553556.521183"
     },
     "execution_count": 106,
     "metadata": {},
     "output_type": "execute_result"
    }
   ],
   "source": [
    "datetime.now().timestamp()"
   ]
  },
  {
   "cell_type": "code",
   "execution_count": 7,
   "metadata": {},
   "outputs": [],
   "source": [
    "API_ENDPOINT = URL(\"https://api.coingecko.com/api/v3\")"
   ]
  },
  {
   "cell_type": "code",
   "execution_count": 8,
   "metadata": {},
   "outputs": [],
   "source": [
    "session = boto3.Session(profile_name='master')"
   ]
  },
  {
   "cell_type": "code",
   "execution_count": 9,
   "metadata": {},
   "outputs": [],
   "source": [
    "@retry(\n",
    "    retry=retry_if_exception_type(requests.exceptions.RequestException),\n",
    "    wait=wait_exponential(max=60),\n",
    "    stop=stop_after_attempt(3),\n",
    ")\n",
    "@retry(\n",
    "    retry=retry_if_exception_type(RateLimitException),\n",
    "    wait=wait_fixed(60),\n",
    "    stop=stop_after_delay(360),\n",
    ")\n",
    "@limits(calls=50, period=60)\n",
    "def call_get(url: URL, params: dict) -> str:\n",
    "    return requests.get(url.update_query(params)).text"
   ]
  },
  {
   "cell_type": "code",
   "execution_count": 5,
   "metadata": {},
   "outputs": [],
   "source": [
    "class MarketDataInfo(BaseModel):\n",
    "    id: str\n",
    "    symbol: str\n",
    "    current_price: float\n",
    "    market_cap: int"
   ]
  },
  {
   "cell_type": "code",
   "execution_count": 149,
   "metadata": {},
   "outputs": [],
   "source": [
    "params = {\r\n",
    "    'vs_currency' : \"usd\",\r\n",
    "    'days' : \"1\"\r\n",
    "}\r\n",
    "res = json.loads(call_get(API_ENDPOINT / \"coins\" / 'bitcoin' / 'ohlc', params))"
   ]
  },
  {
   "cell_type": "code",
   "execution_count": 150,
   "metadata": {},
   "outputs": [
    {
     "data": {
      "text/html": "<div>\n<style scoped>\n    .dataframe tbody tr th:only-of-type {\n        vertical-align: middle;\n    }\n\n    .dataframe tbody tr th {\n        vertical-align: top;\n    }\n\n    .dataframe thead th {\n        text-align: right;\n    }\n</style>\n<table border=\"1\" class=\"dataframe\">\n  <thead>\n    <tr style=\"text-align: right;\">\n      <th></th>\n      <th>timestamp</th>\n      <th>open</th>\n      <th>high</th>\n      <th>low</th>\n      <th>close</th>\n      <th>datetime</th>\n      <th>coin</th>\n      <th>formated_date</th>\n    </tr>\n  </thead>\n  <tbody>\n    <tr>\n      <th>0</th>\n      <td>1648472400000</td>\n      <td>47124.07</td>\n      <td>47137.14</td>\n      <td>47124.07</td>\n      <td>47137.14</td>\n      <td>2022-03-28 13:00:00</td>\n      <td>bitcoin</td>\n      <td>2022-03-28</td>\n    </tr>\n    <tr>\n      <th>1</th>\n      <td>1648474200000</td>\n      <td>47138.69</td>\n      <td>47218.09</td>\n      <td>47138.69</td>\n      <td>47218.09</td>\n      <td>2022-03-28 13:30:00</td>\n      <td>bitcoin</td>\n      <td>2022-03-28</td>\n    </tr>\n    <tr>\n      <th>2</th>\n      <td>1648476000000</td>\n      <td>47251.75</td>\n      <td>47600.85</td>\n      <td>47251.75</td>\n      <td>47600.85</td>\n      <td>2022-03-28 14:00:00</td>\n      <td>bitcoin</td>\n      <td>2022-03-28</td>\n    </tr>\n    <tr>\n      <th>3</th>\n      <td>1648477800000</td>\n      <td>47626.44</td>\n      <td>47626.44</td>\n      <td>47285.95</td>\n      <td>47301.04</td>\n      <td>2022-03-28 14:30:00</td>\n      <td>bitcoin</td>\n      <td>2022-03-28</td>\n    </tr>\n    <tr>\n      <th>4</th>\n      <td>1648479600000</td>\n      <td>47355.00</td>\n      <td>47557.11</td>\n      <td>47355.00</td>\n      <td>47557.11</td>\n      <td>2022-03-28 15:00:00</td>\n      <td>bitcoin</td>\n      <td>2022-03-28</td>\n    </tr>\n    <tr>\n      <th>5</th>\n      <td>1648481400000</td>\n      <td>47470.57</td>\n      <td>47664.42</td>\n      <td>47470.57</td>\n      <td>47655.46</td>\n      <td>2022-03-28 15:30:00</td>\n      <td>bitcoin</td>\n      <td>2022-03-28</td>\n    </tr>\n    <tr>\n      <th>6</th>\n      <td>1648483200000</td>\n      <td>47678.01</td>\n      <td>47678.01</td>\n      <td>47430.84</td>\n      <td>47430.84</td>\n      <td>2022-03-28 16:00:00</td>\n      <td>bitcoin</td>\n      <td>2022-03-28</td>\n    </tr>\n    <tr>\n      <th>7</th>\n      <td>1648485000000</td>\n      <td>47423.06</td>\n      <td>47452.47</td>\n      <td>47322.60</td>\n      <td>47423.43</td>\n      <td>2022-03-28 16:30:00</td>\n      <td>bitcoin</td>\n      <td>2022-03-28</td>\n    </tr>\n    <tr>\n      <th>8</th>\n      <td>1648486800000</td>\n      <td>47403.92</td>\n      <td>47450.37</td>\n      <td>47403.92</td>\n      <td>47450.37</td>\n      <td>2022-03-28 17:00:00</td>\n      <td>bitcoin</td>\n      <td>2022-03-28</td>\n    </tr>\n    <tr>\n      <th>9</th>\n      <td>1648488600000</td>\n      <td>47389.60</td>\n      <td>47389.60</td>\n      <td>47304.76</td>\n      <td>47359.06</td>\n      <td>2022-03-28 17:30:00</td>\n      <td>bitcoin</td>\n      <td>2022-03-28</td>\n    </tr>\n    <tr>\n      <th>10</th>\n      <td>1648490400000</td>\n      <td>47422.30</td>\n      <td>47502.81</td>\n      <td>47422.30</td>\n      <td>47502.81</td>\n      <td>2022-03-28 18:00:00</td>\n      <td>bitcoin</td>\n      <td>2022-03-28</td>\n    </tr>\n    <tr>\n      <th>11</th>\n      <td>1648492200000</td>\n      <td>47555.59</td>\n      <td>47583.88</td>\n      <td>47533.85</td>\n      <td>47583.88</td>\n      <td>2022-03-28 18:30:00</td>\n      <td>bitcoin</td>\n      <td>2022-03-28</td>\n    </tr>\n    <tr>\n      <th>12</th>\n      <td>1648494000000</td>\n      <td>47597.00</td>\n      <td>47836.92</td>\n      <td>47597.00</td>\n      <td>47836.92</td>\n      <td>2022-03-28 19:00:00</td>\n      <td>bitcoin</td>\n      <td>2022-03-28</td>\n    </tr>\n    <tr>\n      <th>13</th>\n      <td>1648495800000</td>\n      <td>47884.55</td>\n      <td>47932.30</td>\n      <td>47800.95</td>\n      <td>47932.30</td>\n      <td>2022-03-28 19:30:00</td>\n      <td>bitcoin</td>\n      <td>2022-03-28</td>\n    </tr>\n    <tr>\n      <th>14</th>\n      <td>1648497600000</td>\n      <td>48018.29</td>\n      <td>48078.86</td>\n      <td>47785.20</td>\n      <td>47785.20</td>\n      <td>2022-03-28 20:00:00</td>\n      <td>bitcoin</td>\n      <td>2022-03-28</td>\n    </tr>\n    <tr>\n      <th>15</th>\n      <td>1648499400000</td>\n      <td>47856.29</td>\n      <td>47857.87</td>\n      <td>47809.03</td>\n      <td>47811.71</td>\n      <td>2022-03-28 20:30:00</td>\n      <td>bitcoin</td>\n      <td>2022-03-28</td>\n    </tr>\n    <tr>\n      <th>16</th>\n      <td>1648501200000</td>\n      <td>47794.29</td>\n      <td>47878.59</td>\n      <td>47794.29</td>\n      <td>47878.59</td>\n      <td>2022-03-28 21:00:00</td>\n      <td>bitcoin</td>\n      <td>2022-03-28</td>\n    </tr>\n    <tr>\n      <th>17</th>\n      <td>1648503000000</td>\n      <td>47929.81</td>\n      <td>47964.94</td>\n      <td>47845.55</td>\n      <td>47845.55</td>\n      <td>2022-03-28 21:30:00</td>\n      <td>bitcoin</td>\n      <td>2022-03-28</td>\n    </tr>\n    <tr>\n      <th>18</th>\n      <td>1648504800000</td>\n      <td>47687.85</td>\n      <td>47687.85</td>\n      <td>47433.54</td>\n      <td>47603.83</td>\n      <td>2022-03-28 22:00:00</td>\n      <td>bitcoin</td>\n      <td>2022-03-28</td>\n    </tr>\n    <tr>\n      <th>19</th>\n      <td>1648506600000</td>\n      <td>47597.09</td>\n      <td>47644.69</td>\n      <td>47555.45</td>\n      <td>47644.69</td>\n      <td>2022-03-28 22:30:00</td>\n      <td>bitcoin</td>\n      <td>2022-03-28</td>\n    </tr>\n    <tr>\n      <th>20</th>\n      <td>1648508400000</td>\n      <td>47636.78</td>\n      <td>47664.88</td>\n      <td>47560.59</td>\n      <td>47560.59</td>\n      <td>2022-03-28 23:00:00</td>\n      <td>bitcoin</td>\n      <td>2022-03-28</td>\n    </tr>\n    <tr>\n      <th>21</th>\n      <td>1648510200000</td>\n      <td>47519.54</td>\n      <td>47519.54</td>\n      <td>47075.27</td>\n      <td>47075.27</td>\n      <td>2022-03-28 23:30:00</td>\n      <td>bitcoin</td>\n      <td>2022-03-28</td>\n    </tr>\n    <tr>\n      <th>22</th>\n      <td>1648512000000</td>\n      <td>47163.68</td>\n      <td>47191.25</td>\n      <td>46994.88</td>\n      <td>46994.88</td>\n      <td>2022-03-29 00:00:00</td>\n      <td>bitcoin</td>\n      <td>2022-03-29</td>\n    </tr>\n    <tr>\n      <th>23</th>\n      <td>1648513800000</td>\n      <td>47060.55</td>\n      <td>47283.82</td>\n      <td>47060.55</td>\n      <td>47257.60</td>\n      <td>2022-03-29 00:30:00</td>\n      <td>bitcoin</td>\n      <td>2022-03-29</td>\n    </tr>\n    <tr>\n      <th>24</th>\n      <td>1648515600000</td>\n      <td>47330.23</td>\n      <td>47454.84</td>\n      <td>47330.23</td>\n      <td>47340.87</td>\n      <td>2022-03-29 01:00:00</td>\n      <td>bitcoin</td>\n      <td>2022-03-29</td>\n    </tr>\n    <tr>\n      <th>25</th>\n      <td>1648517400000</td>\n      <td>47351.71</td>\n      <td>47402.59</td>\n      <td>47327.01</td>\n      <td>47345.26</td>\n      <td>2022-03-29 01:30:00</td>\n      <td>bitcoin</td>\n      <td>2022-03-29</td>\n    </tr>\n    <tr>\n      <th>26</th>\n      <td>1648519200000</td>\n      <td>47368.97</td>\n      <td>47513.05</td>\n      <td>47368.97</td>\n      <td>47513.05</td>\n      <td>2022-03-29 02:00:00</td>\n      <td>bitcoin</td>\n      <td>2022-03-29</td>\n    </tr>\n    <tr>\n      <th>27</th>\n      <td>1648521000000</td>\n      <td>47501.38</td>\n      <td>47510.23</td>\n      <td>47440.20</td>\n      <td>47506.78</td>\n      <td>2022-03-29 02:30:00</td>\n      <td>bitcoin</td>\n      <td>2022-03-29</td>\n    </tr>\n    <tr>\n      <th>28</th>\n      <td>1648522800000</td>\n      <td>47485.17</td>\n      <td>47486.91</td>\n      <td>47404.64</td>\n      <td>47404.64</td>\n      <td>2022-03-29 03:00:00</td>\n      <td>bitcoin</td>\n      <td>2022-03-29</td>\n    </tr>\n    <tr>\n      <th>29</th>\n      <td>1648524600000</td>\n      <td>47382.86</td>\n      <td>47382.86</td>\n      <td>47302.39</td>\n      <td>47332.07</td>\n      <td>2022-03-29 03:30:00</td>\n      <td>bitcoin</td>\n      <td>2022-03-29</td>\n    </tr>\n    <tr>\n      <th>30</th>\n      <td>1648526400000</td>\n      <td>47349.75</td>\n      <td>47355.14</td>\n      <td>47299.45</td>\n      <td>47303.05</td>\n      <td>2022-03-29 04:00:00</td>\n      <td>bitcoin</td>\n      <td>2022-03-29</td>\n    </tr>\n    <tr>\n      <th>31</th>\n      <td>1648528200000</td>\n      <td>47306.63</td>\n      <td>47434.50</td>\n      <td>47295.32</td>\n      <td>47434.50</td>\n      <td>2022-03-29 04:30:00</td>\n      <td>bitcoin</td>\n      <td>2022-03-29</td>\n    </tr>\n    <tr>\n      <th>32</th>\n      <td>1648530000000</td>\n      <td>47476.01</td>\n      <td>47547.69</td>\n      <td>47476.01</td>\n      <td>47516.08</td>\n      <td>2022-03-29 05:00:00</td>\n      <td>bitcoin</td>\n      <td>2022-03-29</td>\n    </tr>\n    <tr>\n      <th>33</th>\n      <td>1648531800000</td>\n      <td>47535.93</td>\n      <td>47535.93</td>\n      <td>47487.54</td>\n      <td>47492.03</td>\n      <td>2022-03-29 05:30:00</td>\n      <td>bitcoin</td>\n      <td>2022-03-29</td>\n    </tr>\n    <tr>\n      <th>34</th>\n      <td>1648533600000</td>\n      <td>47497.67</td>\n      <td>47594.16</td>\n      <td>47487.66</td>\n      <td>47594.16</td>\n      <td>2022-03-29 06:00:00</td>\n      <td>bitcoin</td>\n      <td>2022-03-29</td>\n    </tr>\n    <tr>\n      <th>35</th>\n      <td>1648535400000</td>\n      <td>47581.67</td>\n      <td>47609.96</td>\n      <td>47565.51</td>\n      <td>47590.42</td>\n      <td>2022-03-29 06:30:00</td>\n      <td>bitcoin</td>\n      <td>2022-03-29</td>\n    </tr>\n    <tr>\n      <th>36</th>\n      <td>1648537200000</td>\n      <td>47625.78</td>\n      <td>47627.47</td>\n      <td>47535.20</td>\n      <td>47541.22</td>\n      <td>2022-03-29 07:00:00</td>\n      <td>bitcoin</td>\n      <td>2022-03-29</td>\n    </tr>\n    <tr>\n      <th>37</th>\n      <td>1648539000000</td>\n      <td>47509.96</td>\n      <td>47518.18</td>\n      <td>47443.43</td>\n      <td>47460.73</td>\n      <td>2022-03-29 07:30:00</td>\n      <td>bitcoin</td>\n      <td>2022-03-29</td>\n    </tr>\n    <tr>\n      <th>38</th>\n      <td>1648540800000</td>\n      <td>47455.05</td>\n      <td>47455.05</td>\n      <td>47386.11</td>\n      <td>47396.22</td>\n      <td>2022-03-29 08:00:00</td>\n      <td>bitcoin</td>\n      <td>2022-03-29</td>\n    </tr>\n    <tr>\n      <th>39</th>\n      <td>1648542600000</td>\n      <td>47351.26</td>\n      <td>47428.74</td>\n      <td>47351.26</td>\n      <td>47428.74</td>\n      <td>2022-03-29 08:30:00</td>\n      <td>bitcoin</td>\n      <td>2022-03-29</td>\n    </tr>\n    <tr>\n      <th>40</th>\n      <td>1648544400000</td>\n      <td>47460.93</td>\n      <td>47545.44</td>\n      <td>47460.93</td>\n      <td>47497.76</td>\n      <td>2022-03-29 09:00:00</td>\n      <td>bitcoin</td>\n      <td>2022-03-29</td>\n    </tr>\n    <tr>\n      <th>41</th>\n      <td>1648546200000</td>\n      <td>47504.12</td>\n      <td>47643.42</td>\n      <td>47504.12</td>\n      <td>47641.82</td>\n      <td>2022-03-29 09:30:00</td>\n      <td>bitcoin</td>\n      <td>2022-03-29</td>\n    </tr>\n    <tr>\n      <th>42</th>\n      <td>1648548000000</td>\n      <td>47610.00</td>\n      <td>47631.74</td>\n      <td>47550.89</td>\n      <td>47550.89</td>\n      <td>2022-03-29 10:00:00</td>\n      <td>bitcoin</td>\n      <td>2022-03-29</td>\n    </tr>\n    <tr>\n      <th>43</th>\n      <td>1648549800000</td>\n      <td>47561.32</td>\n      <td>47561.32</td>\n      <td>47459.97</td>\n      <td>47518.61</td>\n      <td>2022-03-29 10:30:00</td>\n      <td>bitcoin</td>\n      <td>2022-03-29</td>\n    </tr>\n    <tr>\n      <th>44</th>\n      <td>1648551600000</td>\n      <td>47520.93</td>\n      <td>47520.93</td>\n      <td>47502.95</td>\n      <td>47515.81</td>\n      <td>2022-03-29 11:00:00</td>\n      <td>bitcoin</td>\n      <td>2022-03-29</td>\n    </tr>\n    <tr>\n      <th>45</th>\n      <td>1648553400000</td>\n      <td>47556.12</td>\n      <td>47632.01</td>\n      <td>47556.12</td>\n      <td>47610.81</td>\n      <td>2022-03-29 11:30:00</td>\n      <td>bitcoin</td>\n      <td>2022-03-29</td>\n    </tr>\n    <tr>\n      <th>46</th>\n      <td>1648555200000</td>\n      <td>47603.51</td>\n      <td>47884.69</td>\n      <td>47585.62</td>\n      <td>47884.69</td>\n      <td>2022-03-29 12:00:00</td>\n      <td>bitcoin</td>\n      <td>2022-03-29</td>\n    </tr>\n    <tr>\n      <th>47</th>\n      <td>1648557000000</td>\n      <td>47846.62</td>\n      <td>47967.30</td>\n      <td>47834.98</td>\n      <td>47965.25</td>\n      <td>2022-03-29 12:30:00</td>\n      <td>bitcoin</td>\n      <td>2022-03-29</td>\n    </tr>\n    <tr>\n      <th>48</th>\n      <td>1648558800000</td>\n      <td>47928.12</td>\n      <td>47946.74</td>\n      <td>47906.49</td>\n      <td>47906.49</td>\n      <td>2022-03-29 13:00:00</td>\n      <td>bitcoin</td>\n      <td>2022-03-29</td>\n    </tr>\n  </tbody>\n</table>\n</div>",
      "text/plain": "        timestamp      open      high       low     close            datetime  \\\n0   1648472400000  47124.07  47137.14  47124.07  47137.14 2022-03-28 13:00:00   \n1   1648474200000  47138.69  47218.09  47138.69  47218.09 2022-03-28 13:30:00   \n2   1648476000000  47251.75  47600.85  47251.75  47600.85 2022-03-28 14:00:00   \n3   1648477800000  47626.44  47626.44  47285.95  47301.04 2022-03-28 14:30:00   \n4   1648479600000  47355.00  47557.11  47355.00  47557.11 2022-03-28 15:00:00   \n5   1648481400000  47470.57  47664.42  47470.57  47655.46 2022-03-28 15:30:00   \n6   1648483200000  47678.01  47678.01  47430.84  47430.84 2022-03-28 16:00:00   \n7   1648485000000  47423.06  47452.47  47322.60  47423.43 2022-03-28 16:30:00   \n8   1648486800000  47403.92  47450.37  47403.92  47450.37 2022-03-28 17:00:00   \n9   1648488600000  47389.60  47389.60  47304.76  47359.06 2022-03-28 17:30:00   \n10  1648490400000  47422.30  47502.81  47422.30  47502.81 2022-03-28 18:00:00   \n11  1648492200000  47555.59  47583.88  47533.85  47583.88 2022-03-28 18:30:00   \n12  1648494000000  47597.00  47836.92  47597.00  47836.92 2022-03-28 19:00:00   \n13  1648495800000  47884.55  47932.30  47800.95  47932.30 2022-03-28 19:30:00   \n14  1648497600000  48018.29  48078.86  47785.20  47785.20 2022-03-28 20:00:00   \n15  1648499400000  47856.29  47857.87  47809.03  47811.71 2022-03-28 20:30:00   \n16  1648501200000  47794.29  47878.59  47794.29  47878.59 2022-03-28 21:00:00   \n17  1648503000000  47929.81  47964.94  47845.55  47845.55 2022-03-28 21:30:00   \n18  1648504800000  47687.85  47687.85  47433.54  47603.83 2022-03-28 22:00:00   \n19  1648506600000  47597.09  47644.69  47555.45  47644.69 2022-03-28 22:30:00   \n20  1648508400000  47636.78  47664.88  47560.59  47560.59 2022-03-28 23:00:00   \n21  1648510200000  47519.54  47519.54  47075.27  47075.27 2022-03-28 23:30:00   \n22  1648512000000  47163.68  47191.25  46994.88  46994.88 2022-03-29 00:00:00   \n23  1648513800000  47060.55  47283.82  47060.55  47257.60 2022-03-29 00:30:00   \n24  1648515600000  47330.23  47454.84  47330.23  47340.87 2022-03-29 01:00:00   \n25  1648517400000  47351.71  47402.59  47327.01  47345.26 2022-03-29 01:30:00   \n26  1648519200000  47368.97  47513.05  47368.97  47513.05 2022-03-29 02:00:00   \n27  1648521000000  47501.38  47510.23  47440.20  47506.78 2022-03-29 02:30:00   \n28  1648522800000  47485.17  47486.91  47404.64  47404.64 2022-03-29 03:00:00   \n29  1648524600000  47382.86  47382.86  47302.39  47332.07 2022-03-29 03:30:00   \n30  1648526400000  47349.75  47355.14  47299.45  47303.05 2022-03-29 04:00:00   \n31  1648528200000  47306.63  47434.50  47295.32  47434.50 2022-03-29 04:30:00   \n32  1648530000000  47476.01  47547.69  47476.01  47516.08 2022-03-29 05:00:00   \n33  1648531800000  47535.93  47535.93  47487.54  47492.03 2022-03-29 05:30:00   \n34  1648533600000  47497.67  47594.16  47487.66  47594.16 2022-03-29 06:00:00   \n35  1648535400000  47581.67  47609.96  47565.51  47590.42 2022-03-29 06:30:00   \n36  1648537200000  47625.78  47627.47  47535.20  47541.22 2022-03-29 07:00:00   \n37  1648539000000  47509.96  47518.18  47443.43  47460.73 2022-03-29 07:30:00   \n38  1648540800000  47455.05  47455.05  47386.11  47396.22 2022-03-29 08:00:00   \n39  1648542600000  47351.26  47428.74  47351.26  47428.74 2022-03-29 08:30:00   \n40  1648544400000  47460.93  47545.44  47460.93  47497.76 2022-03-29 09:00:00   \n41  1648546200000  47504.12  47643.42  47504.12  47641.82 2022-03-29 09:30:00   \n42  1648548000000  47610.00  47631.74  47550.89  47550.89 2022-03-29 10:00:00   \n43  1648549800000  47561.32  47561.32  47459.97  47518.61 2022-03-29 10:30:00   \n44  1648551600000  47520.93  47520.93  47502.95  47515.81 2022-03-29 11:00:00   \n45  1648553400000  47556.12  47632.01  47556.12  47610.81 2022-03-29 11:30:00   \n46  1648555200000  47603.51  47884.69  47585.62  47884.69 2022-03-29 12:00:00   \n47  1648557000000  47846.62  47967.30  47834.98  47965.25 2022-03-29 12:30:00   \n48  1648558800000  47928.12  47946.74  47906.49  47906.49 2022-03-29 13:00:00   \n\n       coin formated_date  \n0   bitcoin    2022-03-28  \n1   bitcoin    2022-03-28  \n2   bitcoin    2022-03-28  \n3   bitcoin    2022-03-28  \n4   bitcoin    2022-03-28  \n5   bitcoin    2022-03-28  \n6   bitcoin    2022-03-28  \n7   bitcoin    2022-03-28  \n8   bitcoin    2022-03-28  \n9   bitcoin    2022-03-28  \n10  bitcoin    2022-03-28  \n11  bitcoin    2022-03-28  \n12  bitcoin    2022-03-28  \n13  bitcoin    2022-03-28  \n14  bitcoin    2022-03-28  \n15  bitcoin    2022-03-28  \n16  bitcoin    2022-03-28  \n17  bitcoin    2022-03-28  \n18  bitcoin    2022-03-28  \n19  bitcoin    2022-03-28  \n20  bitcoin    2022-03-28  \n21  bitcoin    2022-03-28  \n22  bitcoin    2022-03-29  \n23  bitcoin    2022-03-29  \n24  bitcoin    2022-03-29  \n25  bitcoin    2022-03-29  \n26  bitcoin    2022-03-29  \n27  bitcoin    2022-03-29  \n28  bitcoin    2022-03-29  \n29  bitcoin    2022-03-29  \n30  bitcoin    2022-03-29  \n31  bitcoin    2022-03-29  \n32  bitcoin    2022-03-29  \n33  bitcoin    2022-03-29  \n34  bitcoin    2022-03-29  \n35  bitcoin    2022-03-29  \n36  bitcoin    2022-03-29  \n37  bitcoin    2022-03-29  \n38  bitcoin    2022-03-29  \n39  bitcoin    2022-03-29  \n40  bitcoin    2022-03-29  \n41  bitcoin    2022-03-29  \n42  bitcoin    2022-03-29  \n43  bitcoin    2022-03-29  \n44  bitcoin    2022-03-29  \n45  bitcoin    2022-03-29  \n46  bitcoin    2022-03-29  \n47  bitcoin    2022-03-29  \n48  bitcoin    2022-03-29  "
     },
     "execution_count": 150,
     "metadata": {},
     "output_type": "execute_result"
    }
   ],
   "source": [
    "df = pd.DataFrame(res, columns=['timestamp', 'open', 'high', 'low', 'close'])\r\n",
    "df['datetime'] = pd.to_datetime(df['timestamp'], unit='ms')\r\n",
    "df['coin'] = 'bitcoin'\r\n",
    "df['formated_date'] = df['datetime'].dt.strftime('%Y-%m-%d')\r\n",
    "df"
   ]
  },
  {
   "cell_type": "code",
   "execution_count": 136,
   "metadata": {},
   "outputs": [],
   "source": [
    "r2 = json.loads(call_get(API_ENDPOINT / \"coins\" / 'bitcoin' / \"market_chart\", {\"vs_currency\" : \"usd\", \"days\" : \"max\"}))"
   ]
  },
  {
   "cell_type": "code",
   "execution_count": null,
   "metadata": {},
   "outputs": [],
   "source": [
    "def currencies_info(data: dict, list_of_keys: List[str]):\r\n",
    "    filtered_json = {key: data[key] for key in list_of_keys}\r\n",
    "    temp_df = pd.json_normalize(filtered_json)\r\n",
    "    temp_df['timestamp'] = datetime.now().timestamp()\r\n"
   ]
  },
  {
   "cell_type": "code",
   "execution_count": 40,
   "metadata": {},
   "outputs": [
    {
     "data": {
      "text/plain": "dict_keys(['id', 'symbol', 'name', 'asset_platform_id', 'platforms', 'block_time_in_minutes', 'hashing_algorithm', 'categories', 'public_notice', 'additional_notices', 'description', 'links', 'image', 'country_origin', 'genesis_date', 'sentiment_votes_up_percentage', 'sentiment_votes_down_percentage', 'market_cap_rank', 'coingecko_rank', 'coingecko_score', 'developer_score', 'community_score', 'liquidity_score', 'public_interest_score', 'market_data', 'developer_data', 'public_interest_stats', 'status_updates', 'last_updated'])"
     },
     "execution_count": 40,
     "metadata": {},
     "output_type": "execute_result"
    }
   ],
   "source": [
    "res.keys()"
   ]
  },
  {
   "cell_type": "code",
   "execution_count": 93,
   "metadata": {},
   "outputs": [],
   "source": [
    "list_of_keys = ['id', 'symbol', 'name', 'hashing_algorithm', 'categories', 'genesis_date',  'sentiment_votes_up_percentage',\r\n",
    "                'sentiment_votes_down_percentage', 'market_cap_rank', 'coingecko_rank', 'coingecko_score', 'developer_score',\r\n",
    "                'community_score', 'liquidity_score', 'public_interest_score', 'last_updated']"
   ]
  },
  {
   "cell_type": "code",
   "execution_count": 94,
   "metadata": {},
   "outputs": [],
   "source": [
    "output = {key: res[key] for key in list_of_keys}"
   ]
  },
  {
   "cell_type": "code",
   "execution_count": 96,
   "metadata": {},
   "outputs": [
    {
     "data": {
      "text/html": "<div>\n<style scoped>\n    .dataframe tbody tr th:only-of-type {\n        vertical-align: middle;\n    }\n\n    .dataframe tbody tr th {\n        vertical-align: top;\n    }\n\n    .dataframe thead th {\n        text-align: right;\n    }\n</style>\n<table border=\"1\" class=\"dataframe\">\n  <thead>\n    <tr style=\"text-align: right;\">\n      <th></th>\n      <th>id</th>\n      <th>symbol</th>\n      <th>name</th>\n      <th>hashing_algorithm</th>\n      <th>categories</th>\n      <th>genesis_date</th>\n      <th>sentiment_votes_up_percentage</th>\n      <th>sentiment_votes_down_percentage</th>\n      <th>market_cap_rank</th>\n      <th>coingecko_rank</th>\n      <th>coingecko_score</th>\n      <th>developer_score</th>\n      <th>community_score</th>\n      <th>liquidity_score</th>\n      <th>public_interest_score</th>\n      <th>last_updated</th>\n    </tr>\n  </thead>\n  <tbody>\n    <tr>\n      <th>0</th>\n      <td>bitcoin</td>\n      <td>btc</td>\n      <td>Bitcoin</td>\n      <td>SHA-256</td>\n      <td>[Cryptocurrency]</td>\n      <td>2009-01-03</td>\n      <td>89.43</td>\n      <td>10.57</td>\n      <td>1</td>\n      <td>1</td>\n      <td>81.178</td>\n      <td>98.923</td>\n      <td>74.645</td>\n      <td>100.056</td>\n      <td>0.28</td>\n      <td>2022-03-29T10:47:44.334Z</td>\n    </tr>\n  </tbody>\n</table>\n</div>",
      "text/plain": "        id symbol     name hashing_algorithm        categories genesis_date  \\\n0  bitcoin    btc  Bitcoin           SHA-256  [Cryptocurrency]   2009-01-03   \n\n   sentiment_votes_up_percentage  sentiment_votes_down_percentage  \\\n0                          89.43                            10.57   \n\n   market_cap_rank  coingecko_rank  coingecko_score  developer_score  \\\n0                1               1           81.178           98.923   \n\n   community_score  liquidity_score  public_interest_score  \\\n0           74.645          100.056                   0.28   \n\n               last_updated  \n0  2022-03-29T10:47:44.334Z  "
     },
     "execution_count": 96,
     "metadata": {},
     "output_type": "execute_result"
    }
   ],
   "source": [
    "pd.json_normalize(output)"
   ]
  },
  {
   "cell_type": "code",
   "execution_count": 10,
   "metadata": {},
   "outputs": [],
   "source": [
    "# list_of_coins = pd.read_csv(\"/home/vlad/master_project/data/coin_list/list_of_coins.csv\")['id'].to_list()"
   ]
  },
  {
   "cell_type": "code",
   "execution_count": 9,
   "metadata": {},
   "outputs": [],
   "source": [
    "def get_json_from_s3(bucket, key, session):\n",
    "    s3 = session.client('s3')\n",
    "    obj = s3.get_object(Bucket=bucket, Key=key)\n",
    "    data = obj['Body'].read().decode('utf-8')\n",
    "    return json.loads(data)"
   ]
  },
  {
   "cell_type": "code",
   "execution_count": null,
   "metadata": {},
   "outputs": [],
   "source": [
    "session = boto3.Session(profile_name='master')"
   ]
  },
  {
   "cell_type": "code",
   "execution_count": null,
   "metadata": {},
   "outputs": [],
   "source": []
  },
  {
   "cell_type": "code",
   "execution_count": 5,
   "metadata": {},
   "outputs": [],
   "source": []
  },
  {
   "cell_type": "code",
   "execution_count": null,
   "metadata": {},
   "outputs": [],
   "source": []
  }
 ],
 "metadata": {
  "interpreter": {
   "hash": "b60e44f8122f2f435490d6fa5dce1b580a7583eee9b12ed3a9c2b1ff149db1ba"
  },
  "kernelspec": {
   "display_name": "Python 3.7.0 64-bit ('base': conda)",
   "name": "python3"
  },
  "language_info": {
   "codemirror_mode": {
    "name": "ipython",
    "version": 3
   },
   "file_extension": ".py",
   "mimetype": "text/x-python",
   "name": "python",
   "nbconvert_exporter": "python",
   "pygments_lexer": "ipython3",
   "version": "3.9.5"
  },
  "orig_nbformat": 4
 },
 "nbformat": 4,
 "nbformat_minor": 2
}