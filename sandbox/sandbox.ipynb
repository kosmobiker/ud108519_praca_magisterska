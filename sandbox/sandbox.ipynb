{
 "cells": [
  {
   "cell_type": "code",
   "execution_count": 2,
   "metadata": {},
   "outputs": [],
   "source": [
    "import json\n",
    "from functools import lru_cache\n",
    "from operator import itemgetter\n",
    "from typing import List\n",
    "\n",
    "import pandas as pd\n",
    "import requests\n",
    "from pydantic import BaseModel, confloat, AnyUrl,conint\n",
    "from ratelimit import RateLimitException, limits\n",
    "from tenacity import *\n",
    "from yarl import URL"
   ]
  },
  {
   "cell_type": "code",
   "execution_count": 3,
   "metadata": {},
   "outputs": [],
   "source": [
    "API_ENDPOINT = URL(\"https://api.coingecko.com/api/v3\")"
   ]
  },
  {
   "cell_type": "code",
   "execution_count": 4,
   "metadata": {},
   "outputs": [],
   "source": [
    "@retry(\n",
    "    retry=retry_if_exception_type(requests.exceptions.RequestException),\n",
    "    wait=wait_exponential(max=60),\n",
    "    stop=stop_after_attempt(3),\n",
    ")\n",
    "@retry(\n",
    "    retry=retry_if_exception_type(RateLimitException),\n",
    "    wait=wait_fixed(60),\n",
    "    stop=stop_after_delay(360),\n",
    ")\n",
    "@limits(calls=50, period=60)\n",
    "def call_get(url: URL, params: dict) -> str:\n",
    "    return requests.get(url.update_query(params)).text"
   ]
  },
  {
   "cell_type": "code",
   "execution_count": 5,
   "metadata": {},
   "outputs": [],
   "source": [
    "class MarketDataInfo(BaseModel):\n",
    "    id: str\n",
    "    symbol: str\n",
    "    current_price: float\n",
    "    market_cap: int"
   ]
  },
  {
   "cell_type": "code",
   "execution_count": 6,
   "metadata": {},
   "outputs": [],
   "source": [
    "# list_of_coins = pd.read_csv(\"/home/vlad/master_project/data/coin_list/list_of_coins.csv\")['id'].to_list()"
   ]
  },
  {
   "cell_type": "code",
   "execution_count": 6,
   "metadata": {},
   "outputs": [],
   "source": [
    "import boto3\n",
    "session = boto3.Session(profile_name='master')"
   ]
  },
  {
   "cell_type": "code",
   "execution_count": 7,
   "metadata": {},
   "outputs": [],
   "source": [
    "client = session.client('lambda')"
   ]
  },
  {
   "cell_type": "code",
   "execution_count": 15,
   "metadata": {},
   "outputs": [
    {
     "data": {
      "text/plain": [
       "botocore.client.Lambda"
      ]
     },
     "execution_count": 15,
     "metadata": {},
     "output_type": "execute_result"
    }
   ],
   "source": [
    "type(client)"
   ]
  },
  {
   "cell_type": "code",
   "execution_count": 11,
   "metadata": {},
   "outputs": [
    {
     "data": {
      "text/plain": [
       "{'ResponseMetadata': {'RequestId': 'e11613a1-8df9-4041-b78c-3fa7405e1116',\n",
       "  'HTTPStatusCode': 200,\n",
       "  'HTTPHeaders': {'date': 'Sun, 20 Mar 2022 14:14:15 GMT',\n",
       "   'content-type': 'application/json',\n",
       "   'content-length': '992',\n",
       "   'connection': 'keep-alive',\n",
       "   'x-amzn-requestid': 'e11613a1-8df9-4041-b78c-3fa7405e1116'},\n",
       "  'RetryAttempts': 0},\n",
       " 'Functions': [{'FunctionName': 'Kosmo_Test_Lambda_Function',\n",
       "   'FunctionArn': 'arn:aws:lambda:us-east-1:142327076576:function:Kosmo_Test_Lambda_Function',\n",
       "   'Runtime': 'python3.9',\n",
       "   'Role': 'arn:aws:iam::142327076576:role/Kosmobiker_Test_Lambda_Function_Role',\n",
       "   'Handler': 'lambda_func.lambda_handler',\n",
       "   'CodeSize': 1274851,\n",
       "   'Description': '',\n",
       "   'Timeout': 3,\n",
       "   'MemorySize': 128,\n",
       "   'LastModified': '2022-03-20T13:39:43.000+0000',\n",
       "   'CodeSha256': 'patGhR2H6X6btZJQXsNDGXS6MdlY2wh+5VlWb6TkxgU=',\n",
       "   'Version': '$LATEST',\n",
       "   'TracingConfig': {'Mode': 'PassThrough'},\n",
       "   'RevisionId': 'c67c9b47-b354-45f1-9b7f-9ee15b6902f4',\n",
       "   'PackageType': 'Zip'}]}"
      ]
     },
     "execution_count": 11,
     "metadata": {},
     "output_type": "execute_result"
    }
   ],
   "source": [
    "client.list_functions()"
   ]
  },
  {
   "cell_type": "code",
   "execution_count": 12,
   "metadata": {},
   "outputs": [],
   "source": [
    "def lambda_get_data(func_name: str, params: dict):\n",
    "    response = client.invoke(\n",
    "            FunctionName=func_name,\n",
    "            InvocationType='Event',\n",
    "            Payload=json.dumps(params)\n",
    "        )\n",
    "    return response"
   ]
  },
  {
   "cell_type": "code",
   "execution_count": 13,
   "metadata": {},
   "outputs": [],
   "source": [
    "f = 'Kosmo_Test_Lambda_Function'\n",
    "params = {\n",
    "    \"coin\": \"bitcoin\",\n",
    "    \"bucket\": \"kosmobiker-masterproject\",\n",
    "    \"path_raw_data\": \"data/raw\"\n",
    "}"
   ]
  },
  {
   "cell_type": "code",
   "execution_count": 14,
   "metadata": {},
   "outputs": [
    {
     "data": {
      "text/plain": [
       "{'ResponseMetadata': {'RequestId': '979e0d1f-0f1f-45b9-99ec-ce84cd07cfbd',\n",
       "  'HTTPStatusCode': 202,\n",
       "  'HTTPHeaders': {'date': 'Sun, 20 Mar 2022 14:20:11 GMT',\n",
       "   'content-length': '0',\n",
       "   'connection': 'keep-alive',\n",
       "   'x-amzn-requestid': '979e0d1f-0f1f-45b9-99ec-ce84cd07cfbd',\n",
       "   'x-amzn-remapped-content-length': '0',\n",
       "   'x-amzn-trace-id': 'root=1-6237381b-278ecf32518bb425038bfd49;sampled=0'},\n",
       "  'RetryAttempts': 0},\n",
       " 'StatusCode': 202,\n",
       " 'Payload': <botocore.response.StreamingBody at 0x7f2611bcc670>}"
      ]
     },
     "execution_count": 14,
     "metadata": {},
     "output_type": "execute_result"
    }
   ],
   "source": [
    "lambda_get_data(f, params)"
   ]
  },
  {
   "cell_type": "code",
   "execution_count": null,
   "metadata": {},
   "outputs": [],
   "source": []
  }
 ],
 "metadata": {
  "interpreter": {
   "hash": "b60e44f8122f2f435490d6fa5dce1b580a7583eee9b12ed3a9c2b1ff149db1ba"
  },
  "kernelspec": {
   "display_name": "Python 3.7.0 64-bit ('base': conda)",
   "name": "python3"
  },
  "language_info": {
   "codemirror_mode": {
    "name": "ipython",
    "version": 3
   },
   "file_extension": ".py",
   "mimetype": "text/x-python",
   "name": "python",
   "nbconvert_exporter": "python",
   "pygments_lexer": "ipython3",
   "version": "3.9.5"
  },
  "orig_nbformat": 4
 },
 "nbformat": 4,
 "nbformat_minor": 2
}
