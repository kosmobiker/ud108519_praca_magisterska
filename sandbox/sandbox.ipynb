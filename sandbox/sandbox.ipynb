{
 "cells": [
  {
   "cell_type": "code",
   "execution_count": 1,
   "metadata": {},
   "outputs": [],
   "source": [
    "import json\n",
    "from functools import lru_cache\n",
    "from operator import itemgetter\n",
    "from typing import List\n",
    "import boto3\n",
    "\n",
    "import pandas as pd\n",
    "import requests\n",
    "from pydantic import BaseModel, confloat, AnyUrl,conint\n",
    "from ratelimit import RateLimitException, limits\n",
    "from tenacity import *\n",
    "from yarl import URL"
   ]
  },
  {
   "cell_type": "code",
   "execution_count": 2,
   "metadata": {},
   "outputs": [],
   "source": [
    "API_ENDPOINT = URL(\"https://api.coingecko.com/api/v3\")"
   ]
  },
  {
   "cell_type": "code",
   "execution_count": 2,
   "metadata": {},
   "outputs": [],
   "source": [
    "session = boto3.Session(profile_name='master')"
   ]
  },
  {
   "cell_type": "code",
   "execution_count": 4,
   "metadata": {},
   "outputs": [],
   "source": [
    "@retry(\n",
    "    retry=retry_if_exception_type(requests.exceptions.RequestException),\n",
    "    wait=wait_exponential(max=60),\n",
    "    stop=stop_after_attempt(3),\n",
    ")\n",
    "@retry(\n",
    "    retry=retry_if_exception_type(RateLimitException),\n",
    "    wait=wait_fixed(60),\n",
    "    stop=stop_after_delay(360),\n",
    ")\n",
    "@limits(calls=50, period=60)\n",
    "def call_get(url: URL, params: dict) -> str:\n",
    "    return requests.get(url.update_query(params)).text"
   ]
  },
  {
   "cell_type": "code",
   "execution_count": 5,
   "metadata": {},
   "outputs": [],
   "source": [
    "class MarketDataInfo(BaseModel):\n",
    "    id: str\n",
    "    symbol: str\n",
    "    current_price: float\n",
    "    market_cap: int"
   ]
  },
  {
   "cell_type": "code",
   "execution_count": 6,
   "metadata": {},
   "outputs": [],
   "source": [
    "# list_of_coins = pd.read_csv(\"/home/vlad/master_project/data/coin_list/list_of_coins.csv\")['id'].to_list()"
   ]
  },
  {
   "cell_type": "code",
   "execution_count": 3,
   "metadata": {},
   "outputs": [],
   "source": [
    "import awswrangler as wr\n"
   ]
  },
  {
   "cell_type": "code",
   "execution_count": 4,
   "metadata": {},
   "outputs": [],
   "source": [
    "s3 = session.client('s3')"
   ]
  },
  {
   "cell_type": "code",
   "execution_count": 70,
   "metadata": {},
   "outputs": [],
   "source": [
    "def get_json_from_s3(bucket, key, session):\n",
    "    s3 = session.client('s3')\n",
    "    obj = s3.get_object(Bucket=bucket, Key=key)\n",
    "    data = obj['Body'].read().decode('utf-8')\n",
    "    return json.loads(data)"
   ]
  },
  {
   "cell_type": "code",
   "execution_count": 39,
   "metadata": {},
   "outputs": [],
   "source": [
    "res_empty = get_json_from_s3(\"kosmobiker-masterproject\", 'data/raw/ape_in_records_historical_prices.json', session)\n",
    "res_bit = get_json_from_s3(\"kosmobiker-masterproject\", 'data/raw/bitcoin_historical_prices.json', session)\n",
    "res_amar = get_json_from_s3(\"kosmobiker-masterproject\", 'data/raw/amateras_historical_prices.json', session)\n",
    "res_aaa = get_json_from_s3(\"kosmobiker-masterproject\", 'data/raw/american-shiba_historical_prices.json', session)"
   ]
  },
  {
   "cell_type": "code",
   "execution_count": 57,
   "metadata": {},
   "outputs": [
    {
     "data": {
      "text/plain": [
       "1"
      ]
     },
     "execution_count": 57,
     "metadata": {},
     "output_type": "execute_result"
    }
   ],
   "source": [
    "len(res_empty['prices'])"
   ]
  },
  {
   "cell_type": "code",
   "execution_count": 61,
   "metadata": {},
   "outputs": [],
   "source": [
    "def make_df(json_data):\n",
    "    return pd.DataFrame({\n",
    "                \"timestamp\" : [i[0] for i in json_data['prices']],\n",
    "                \"prices\" : [i[1] for i in json_data['prices']],\n",
    "                \"market_caps\" : [i[1] for i in json_data['market_caps']],\n",
    "                \"total_volumes\" : [i[1] for i in json_data['total_volumes']]\n",
    "    })\n",
    "    \n"
   ]
  },
  {
   "cell_type": "code",
   "execution_count": null,
   "metadata": {},
   "outputs": [],
   "source": []
  },
  {
   "cell_type": "code",
   "execution_count": 36,
   "metadata": {},
   "outputs": [],
   "source": [
    "import jsonschema\n",
    "def validate_json(data, schema):\n",
    "    try:\n",
    "        validate(instance=data, schema=schema)\n",
    "        if len(data['prices']) < 30:\n",
    "            raise ValueError\n",
    "        return True\n",
    "    except Exception:\n",
    "        return False\n",
    "\n"
   ]
  },
  {
   "cell_type": "code",
   "execution_count": 104,
   "metadata": {},
   "outputs": [],
   "source": [
    "s3 = session.client('s3')\n",
    "\n",
    "def ListFilesV1(client, bucket, prefix=''):\n",
    "    \"\"\"List files in specific S3 URL\"\"\"\n",
    "    paginator = client.get_paginator('list_objects_v2')\n",
    "    page_iterator = paginator.paginate(Bucket=bucket,\n",
    "                                    Prefix=prefix,\n",
    "                                    PaginationConfig={'MaxItems': 100})\n",
    "    for page in page_iterator:\n",
    "        for content in page.get('Contents'):\n",
    "            yield content.get('Key')\n",
    "gen = ListFilesV1(s3, 'kosmobiker-masterproject', prefix=\"data/raw\")"
   ]
  },
  {
   "cell_type": "code",
   "execution_count": 105,
   "metadata": {},
   "outputs": [
    {
     "name": "stdout",
     "output_type": "stream",
     "text": [
      "data/raw/0-5x-long-altcoin-index-token_historical_prices.json\n",
      "data/raw/0-5x-long-bitcoin-cash-token_historical_prices.json\n",
      "data/raw/0-5x-long-cardano-token_historical_prices.json\n",
      "data/raw/0-5x-long-cosmos-token_historical_prices.json\n",
      "data/raw/0-5x-long-eos-token_historical_prices.json\n",
      "data/raw/0-5x-long-ethereum-token_historical_prices.json\n",
      "data/raw/0-5x-long-matic-token_historical_prices.json\n",
      "data/raw/0-5x-long-swipe-token_historical_prices.json\n",
      "data/raw/0-5x-long-xrp-token_historical_prices.json\n",
      "data/raw/0cash_historical_prices.json\n",
      "data/raw/0x-wormhole_historical_prices.json\n",
      "data/raw/0xcert_historical_prices.json\n",
      "data/raw/0xmonero_historical_prices.json\n",
      "data/raw/10024-10028-appoline_historical_prices.json\n",
      "data/raw/100man_historical_prices.json\n",
      "data/raw/amasa_historical_prices.json\n",
      "data/raw/amateras_historical_prices.json\n",
      "data/raw/amazon-tokenized-stock-defichain_historical_prices.json\n",
      "data/raw/amber_historical_prices.json\n",
      "data/raw/amc-fight-night_historical_prices.json\n",
      "data/raw/american-shiba_historical_prices.json\n",
      "data/raw/amerikan-pitbull-terrier_historical_prices.json\n",
      "data/raw/amethyst_historical_prices.json\n",
      "data/raw/amix_historical_prices.json\n",
      "data/raw/amnext_historical_prices.json\n",
      "data/raw/amon_historical_prices.json\n",
      "data/raw/amoveo_historical_prices.json\n",
      "data/raw/amp-wormhole_historical_prices.json\n",
      "data/raw/ampleforth-wormhole_historical_prices.json\n",
      "data/raw/ampleswap_historical_prices.json\n",
      "data/raw/ampnet_historical_prices.json\n",
      "data/raw/amun-defi-momentum-index_historical_prices.json\n",
      "data/raw/amz-coin_historical_prices.json\n",
      "data/raw/anchor-neural-world-token_historical_prices.json\n",
      "data/raw/anchor_historical_prices.json\n",
      "data/raw/anchorust_historical_prices.json\n",
      "data/raw/ancient-warrior_historical_prices.json\n",
      "data/raw/andronodes_historical_prices.json\n",
      "data/raw/angel-inu_historical_prices.json\n",
      "data/raw/angel-protocol_historical_prices.json\n",
      "data/raw/angelscreed_historical_prices.json\n",
      "data/raw/angryb_historical_prices.json\n",
      "data/raw/angryfloki_historical_prices.json\n",
      "data/raw/animal-token_historical_prices.json\n",
      "data/raw/animalia_historical_prices.json\n",
      "data/raw/anime-vault-nftx_historical_prices.json\n",
      "data/raw/animeinu_historical_prices.json\n",
      "data/raw/anj_historical_prices.json\n",
      "data/raw/ankaragucu-fan-token_historical_prices.json\n",
      "data/raw/ankr-network-wormhole_historical_prices.json\n"
     ]
    }
   ],
   "source": [
    "for _ in gen:\n",
    "    key = next(gen)\n",
    "    print(key)"
   ]
  },
  {
   "cell_type": "code",
   "execution_count": null,
   "metadata": {},
   "outputs": [],
   "source": []
  }
 ],
 "metadata": {
  "interpreter": {
   "hash": "b60e44f8122f2f435490d6fa5dce1b580a7583eee9b12ed3a9c2b1ff149db1ba"
  },
  "kernelspec": {
   "display_name": "Python 3.7.0 64-bit ('base': conda)",
   "name": "python3"
  },
  "language_info": {
   "codemirror_mode": {
    "name": "ipython",
    "version": 3
   },
   "file_extension": ".py",
   "mimetype": "text/x-python",
   "name": "python",
   "nbconvert_exporter": "python",
   "pygments_lexer": "ipython3",
   "version": "3.9.5"
  },
  "orig_nbformat": 4
 },
 "nbformat": 4,
 "nbformat_minor": 2
}
