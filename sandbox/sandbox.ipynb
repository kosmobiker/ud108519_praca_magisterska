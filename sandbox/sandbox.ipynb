{
 "cells": [
  {
   "cell_type": "code",
   "execution_count": 51,
   "metadata": {},
   "outputs": [],
   "source": [
    "import json\n",
    "from functools import lru_cache\n",
    "from operator import itemgetter\n",
    "from typing import List\n",
    "import boto3\n",
    "import pandas as pd\n",
    "import requests\n",
    "from datetime import datetime\n",
    "from pydantic import BaseModel, confloat, AnyUrl,conint\n",
    "from ratelimit import RateLimitException, limits\n",
    "from tenacity import *\n",
    "from yarl import URL\n",
    "import awswrangler as wr\n",
    "import cryptocompare"
   ]
  },
  {
   "cell_type": "code",
   "execution_count": 52,
   "metadata": {},
   "outputs": [
    {
     "data": {
      "text/plain": [
       "'&api_key=6188db038cad874de5eb7da3821490d45967ae07911bb365904d2b1759400ea4'"
      ]
     },
     "execution_count": 52,
     "metadata": {},
     "output_type": "execute_result"
    }
   ],
   "source": [
    "crypto_compare_key = \"6188db038cad874de5eb7da3821490d45967ae07911bb365904d2b1759400ea4\"\n",
    "cryptocompare.cryptocompare._set_api_key_parameter(crypto_compare_key)"
   ]
  },
  {
   "cell_type": "code",
   "execution_count": 53,
   "metadata": {},
   "outputs": [],
   "source": [
    "session = boto3.Session(profile_name='master')\n",
    "dynamo = session.resource('dynamodb')\n",
    "s3_client = session.client('s3')"
   ]
  },
  {
   "cell_type": "code",
   "execution_count": 54,
   "metadata": {},
   "outputs": [],
   "source": [
    "list_of_coins = [\n",
    "    \"BTC\",\n",
    "    \"ETH\",\n",
    "    \"BUSD\",\n",
    "    \"USDT\",\n",
    "    \"XRP\",\n",
    "    \"SOL\",\n",
    "    \"BNB\",\n",
    "    \"DOT\",\n",
    "    \"SHIB\",\n",
    "    \"LTC\"\n",
    "  ]\n",
    "list_of_currencies = ['USD']"
   ]
  },
  {
   "cell_type": "code",
   "execution_count": 55,
   "metadata": {},
   "outputs": [],
   "source": [
    "df = wr.s3.read_csv('s3://kosmobiker-masterproject/data/coin_list/table/', boto3_session=session)\n"
   ]
  },
  {
   "cell_type": "code",
   "execution_count": 58,
   "metadata": {},
   "outputs": [
    {
     "data": {
      "text/plain": [
       "{'BTC': 1417635237,\n",
       " 'DOT': 1593791455,\n",
       " 'USDT': 1499420073,\n",
       " 'BUSD': 1569227610,\n",
       " 'BNB': 1501700700,\n",
       " 'SHIB': 1618843684,\n",
       " 'SOL': 1586353077,\n",
       " 'XRP': 1428671962,\n",
       " 'LTC': 1426004323,\n",
       " 'ETH': 1438259812}"
      ]
     },
     "execution_count": 58,
     "metadata": {},
     "output_type": "execute_result"
    }
   ],
   "source": [
    "tmp_df = df[df['Name'].isin(list_of_coins)][['Name', 'ContentCreatedOn']]\n",
    "created_on = dict(zip(tmp_df.Name,tmp_df.ContentCreatedOn))\n",
    "created_on"
   ]
  },
  {
   "cell_type": "code",
   "execution_count": 65,
   "metadata": {},
   "outputs": [],
   "source": [
    "def get_historical_data(coin:str,\n",
    "                        cur:str,\n",
    "                        created_on:dict,\n",
    "                        ts=int(datetime.now().timestamp()),\n",
    "                        limit=2000):\n",
    "    data = []\n",
    "    done = False\n",
    "    while not done:\n",
    "        try:\n",
    "            tmp_json = cryptocompare.get_historical_price_hour(coin, cur, limit=limit, toTs=ts)\n",
    "            if ts < created_on[coin]:\n",
    "                done = True\n",
    "            else:\n",
    "                data.extend(tmp_json)\n",
    "                ts -= 3600000\n",
    "                done = False\n",
    "        except Exception as err:\n",
    "            print(err)\n",
    "            done = True\n",
    "    return pd.DataFrame(data)"
   ]
  },
  {
   "cell_type": "code",
   "execution_count": 69,
   "metadata": {},
   "outputs": [],
   "source": [
    "df = get_historical_data('ETH', \"USD\", created_on)"
   ]
  },
  {
   "cell_type": "code",
   "execution_count": null,
   "metadata": {},
   "outputs": [],
   "source": []
  }
 ],
 "metadata": {
  "interpreter": {
   "hash": "b60e44f8122f2f435490d6fa5dce1b580a7583eee9b12ed3a9c2b1ff149db1ba"
  },
  "kernelspec": {
   "display_name": "Python 3.9.5 ('base')",
   "language": "python",
   "name": "python3"
  },
  "language_info": {
   "codemirror_mode": {
    "name": "ipython",
    "version": 3
   },
   "file_extension": ".py",
   "mimetype": "text/x-python",
   "name": "python",
   "nbconvert_exporter": "python",
   "pygments_lexer": "ipython3",
   "version": "3.9.5"
  },
  "orig_nbformat": 4
 },
 "nbformat": 4,
 "nbformat_minor": 2
}
