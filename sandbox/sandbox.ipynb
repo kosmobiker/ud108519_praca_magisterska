{
 "cells": [
  {
   "cell_type": "code",
   "execution_count": 2,
   "metadata": {},
   "outputs": [],
   "source": [
    "import json\n",
    "from functools import lru_cache\n",
    "from operator import itemgetter\n",
    "from typing import List\n",
    "import boto3\n",
    "import pandas as pd\n",
    "import requests\n",
    "from datetime import datetime\n",
    "from pydantic import BaseModel, confloat, AnyUrl,conint\n",
    "from ratelimit import RateLimitException, limits\n",
    "from tenacity import *\n",
    "from yarl import URL\n",
    "import awswrangler as wr"
   ]
  },
  {
   "cell_type": "code",
   "execution_count": 4,
   "metadata": {},
   "outputs": [],
   "source": [
    "session = boto3.Session(profile_name='master')\r\n",
    "dynamo = session.resource('dynamodb')\r\n",
    "s3_client = session.client('s3')"
   ]
  },
  {
   "cell_type": "code",
   "execution_count": 6,
   "metadata": {},
   "outputs": [],
   "source": [
    "API_ENDPOINT = URL(\"https://api.coingecko.com/api/v3\")\r\n",
    "@retry(\r\n",
    "    retry=retry_if_exception_type(requests.exceptions.RequestException),\r\n",
    "    wait=wait_exponential(max=60),\r\n",
    "    stop=stop_after_attempt(3),\r\n",
    ")\r\n",
    "@retry(\r\n",
    "    retry=retry_if_exception_type(RateLimitException),\r\n",
    "    wait=wait_fixed(60),\r\n",
    "    stop=stop_after_delay(360),\r\n",
    ")\r\n",
    "@limits(calls=50, period=60)\r\n",
    "def call_get(url: URL, params: dict) -> str:\r\n",
    "    return requests.get(url.update_query(params)).text\r\n",
    "\r\n",
    "class MarketDataInfo(BaseModel):\r\n",
    "    id: str\r\n",
    "    symbol: str\r\n",
    "    current_price: float\r\n",
    "    market_cap: int"
   ]
  },
  {
   "cell_type": "code",
   "execution_count": 8,
   "metadata": {},
   "outputs": [],
   "source": [
    "params = {\n",
    "    'vs_currency' : \"usd\",\n",
    "    'days' : \"1\"\n",
    "}\n",
    "res = json.loads(call_get(API_ENDPOINT / \"coins\" / 'bitcoin' / 'ohlc', params))"
   ]
  },
  {
   "cell_type": "code",
   "execution_count": 9,
   "metadata": {},
   "outputs": [],
   "source": [
    "df = pd.DataFrame(res, columns=['timestamp', 'open', 'high', 'low', 'close'])\n",
    "df['datetime'] = pd.to_datetime(df['timestamp'], unit='ms')\n",
    "df['coin'] = 'bitcoin'\n",
    "df['formated_date'] = df['datetime'].dt.strftime('%Y-%m-%d')"
   ]
  },
  {
   "cell_type": "code",
   "execution_count": 10,
   "metadata": {},
   "outputs": [],
   "source": [
    "r2 = json.loads(call_get(API_ENDPOINT / \"coins\" / 'bitcoin' / \"market_chart\", {\"vs_currency\" : \"usd\", \"days\" : \"max\"}))"
   ]
  },
  {
   "cell_type": "code",
   "execution_count": 107,
   "metadata": {},
   "outputs": [],
   "source": [
    "def transform_json_dataframe(data: dict):\n",
    "    ts = [i[0] for i in data['prices']]\n",
    "    prices = [i[1] for i in data['prices']]\n",
    "    market_caps = [i[1] for i in data['market_caps']]\n",
    "    total_volumes = [i[1] for i in data['total_volumes']]\n",
    "    temp = pd.DataFrame({\n",
    "        \"timestamp\" : ts,\n",
    "        \"prices\" : prices,\n",
    "        \"market_caps\" : market_caps,\n",
    "        \"total_volumes\" : total_volumes,\n",
    "        \"formated_date\" : [datetime.fromtimestamp(i/1000).strftime('%Y-%m-%d') for i in ts]\n",
    "        })\n",
    "    temp['coin'] = 'bitcoin'\n",
    "    temp['currency'] = 'usd'\n",
    "    return temp\n"
   ]
  },
  {
   "cell_type": "code",
   "execution_count": 226,
   "metadata": {},
   "outputs": [],
   "source": [
    "from boto3.dynamodb.conditions import Key\n",
    "\n",
    "def convert_lists(response):\n",
    "    paths = [i['PathS3'] for i in response]\n",
    "    tokens = [i['TokenName'] for i in response]\n",
    "    return [list(l) for l in zip(paths, tokens)]\n",
    "\n",
    "\n",
    "def scan_paths_table(type, dynamodb=None):\n",
    "    if not dynamodb:\n",
    "        dynamodb = boto3.resource('dynamodb')\n",
    "\n",
    "    table = dynamodb.Table('Pathes')\n",
    "    scan_kwargs = {\n",
    "        'FilterExpression': Key('TypeOfRecord').eq(type),\n",
    "        'ProjectionExpression': \"#pth, #tp, #tkn\",\n",
    "        'ExpressionAttributeNames': {\"#pth\": \"PathS3\", \"#tp\": \"TypeOfRecord\", \"#tkn\" : \"TokenName\"}\n",
    "    }\n",
    "    results = []\n",
    "    done = False\n",
    "    start_key = None\n",
    "    while not done:\n",
    "        if start_key:\n",
    "            scan_kwargs['ExclusiveStartKey'] = start_key\n",
    "        response = table.scan(**scan_kwargs)\n",
    "        results.extend(convert_lists(response.get('Items', [])))\n",
    "        start_key = response.get('LastEvaluatedKey', None)\n",
    "        done = start_key is None\n",
    "\n",
    "    return results\n"
   ]
  },
  {
   "cell_type": "code",
   "execution_count": 189,
   "metadata": {},
   "outputs": [],
   "source": [
    "def get_json_s3(bucket, key, s3=None):\n",
    "    \"\"\"\n",
    "    Function is used to get JSON file\n",
    "    from S3 bucket\n",
    "    \"\"\"\n",
    "    if not s3:\n",
    "        s3 = boto3.client('s3')\n",
    "    obj = s3.get_object(Bucket=bucket, Key=key)\n",
    "    data = obj['Body'].read().decode('utf-8')\n",
    "    return json.loads(data)"
   ]
  },
  {
   "cell_type": "code",
   "execution_count": 190,
   "metadata": {},
   "outputs": [],
   "source": [
    "ddd = get_json_s3('kosmobiker-masterproject', 'data/raw/baby-samo-coin_historical_prices.json', s3_client)\n",
    "df = transform_json_dataframe(ddd)"
   ]
  },
  {
   "cell_type": "code",
   "execution_count": 7,
   "metadata": {},
   "outputs": [
    {
     "data": {
      "text/html": "<div>\n<style scoped>\n    .dataframe tbody tr th:only-of-type {\n        vertical-align: middle;\n    }\n\n    .dataframe tbody tr th {\n        vertical-align: top;\n    }\n\n    .dataframe thead th {\n        text-align: right;\n    }\n</style>\n<table border=\"1\" class=\"dataframe\">\n  <thead>\n    <tr style=\"text-align: right;\">\n      <th></th>\n      <th>Column Name</th>\n      <th>Type</th>\n      <th>Partition</th>\n      <th>Comment</th>\n    </tr>\n  </thead>\n  <tbody>\n    <tr>\n      <th>0</th>\n      <td>timestamp</td>\n      <td>bigint</td>\n      <td>False</td>\n      <td></td>\n    </tr>\n    <tr>\n      <th>1</th>\n      <td>prices</td>\n      <td>double</td>\n      <td>False</td>\n      <td></td>\n    </tr>\n    <tr>\n      <th>2</th>\n      <td>market_caps</td>\n      <td>double</td>\n      <td>False</td>\n      <td></td>\n    </tr>\n    <tr>\n      <th>3</th>\n      <td>total_volumes</td>\n      <td>double</td>\n      <td>False</td>\n      <td></td>\n    </tr>\n    <tr>\n      <th>4</th>\n      <td>formated_date</td>\n      <td>string</td>\n      <td>False</td>\n      <td></td>\n    </tr>\n    <tr>\n      <th>5</th>\n      <td>currency</td>\n      <td>string</td>\n      <td>False</td>\n      <td></td>\n    </tr>\n    <tr>\n      <th>6</th>\n      <td>coin</td>\n      <td>string</td>\n      <td>True</td>\n      <td></td>\n    </tr>\n  </tbody>\n</table>\n</div>",
      "text/plain": "     Column Name    Type  Partition Comment\n0      timestamp  bigint      False        \n1         prices  double      False        \n2    market_caps  double      False        \n3  total_volumes  double      False        \n4  formated_date  string      False        \n5       currency  string      False        \n6           coin  string       True        "
     },
     "execution_count": 7,
     "metadata": {},
     "output_type": "execute_result"
    }
   ],
   "source": [
    "# wr.catalog.tables(database=\"master_project\", boto3_session=session)\r\n",
    "# wr.catalog.databases(boto3_session=session)\r\n",
    "# wr.catalog.table(database=\"master_project\", table=\"historical_data\", boto3_session=session)\r\n",
    "# for table in wr.catalog.get_tables(database=\"master_project\", boto3_session=session):\r\n",
    "#     wr.catalog.delete_table_if_exists(database=\"master_project\", table=table[\"Name\"], boto3_session=session)"
   ]
  },
  {
   "cell_type": "code",
   "execution_count": 224,
   "metadata": {},
   "outputs": [],
   "source": [
    "# client = session.client('glue')\n",
    "\n",
    "# response = client.get_tables(\n",
    "#     DatabaseName='master_project'\n",
    "# )\n",
    "# response"
   ]
  },
  {
   "cell_type": "code",
   "execution_count": 13,
   "metadata": {},
   "outputs": [],
   "source": [
    "dfs = wr.athena.read_sql_query(\r\n",
    "    \"SELECT * FROM historical_data\",\r\n",
    "    database=\"master_project\",\r\n",
    "    # chunksize=100_000_000,\r\n",
    "    boto3_session=session\r\n",
    ")"
   ]
  },
  {
   "cell_type": "code",
   "execution_count": 10,
   "metadata": {},
   "outputs": [
    {
     "name": "stdout",
     "output_type": "stream",
     "text": [
      "273406\n"
     ]
    }
   ],
   "source": [
    "for df in dfs:  # Batching\r\n",
    "    print(len(df.index))"
   ]
  },
  {
   "cell_type": "code",
   "execution_count": 12,
   "metadata": {},
   "outputs": [],
   "source": [
    "def currencies_info(data: dict, list_of_keys: List[str]):\n",
    "    filtered_json = {key: data[key] for key in list_of_keys}\n",
    "    temp_df = pd.json_normalize(filtered_json)\n",
    "    temp_df['timestamp'] = datetime.now().timestamp()\n"
   ]
  },
  {
   "cell_type": "code",
   "execution_count": 93,
   "metadata": {},
   "outputs": [],
   "source": [
    "list_of_keys = ['id', 'symbol', 'name', 'hashing_algorithm', 'categories', 'genesis_date',  'sentiment_votes_up_percentage',\n",
    "                'sentiment_votes_down_percentage', 'market_cap_rank', 'coingecko_rank', 'coingecko_score', 'developer_score',\n",
    "                'community_score', 'liquidity_score', 'public_interest_score', 'last_updated']"
   ]
  },
  {
   "cell_type": "code",
   "execution_count": 8,
   "metadata": {},
   "outputs": [
    {
     "data": {
      "text/plain": "8"
     },
     "execution_count": 8,
     "metadata": {},
     "output_type": "execute_result"
    }
   ],
   "source": [
    "import os\r\n",
    "os.cpu_count() "
   ]
  },
  {
   "cell_type": "code",
   "execution_count": null,
   "metadata": {},
   "outputs": [],
   "source": []
  }
 ],
 "metadata": {
  "interpreter": {
   "hash": "b60e44f8122f2f435490d6fa5dce1b580a7583eee9b12ed3a9c2b1ff149db1ba"
  },
  "kernelspec": {
   "display_name": "Python 3.9.4 64-bit",
   "metadata": {
    "interpreter": {
     "hash": "ac59ebe37160ed0dfa835113d9b8498d9f09ceb179beaac4002f036b9467c963"
    }
   },
   "name": "python3"
  },
  "language_info": {
   "codemirror_mode": {
    "name": "ipython",
    "version": 3
   },
   "file_extension": ".py",
   "mimetype": "text/x-python",
   "name": "python",
   "nbconvert_exporter": "python",
   "pygments_lexer": "ipython3",
   "version": "3.9.4"
  },
  "orig_nbformat": 4
 },
 "nbformat": 4,
 "nbformat_minor": 2
}