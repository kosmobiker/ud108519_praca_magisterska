{
 "cells": [
  {
   "cell_type": "code",
   "execution_count": 12,
   "metadata": {},
   "outputs": [
    {
     "data": {
      "text/plain": [
       "'&api_key=6188db038cad874de5eb7da3821490d45967ae07911bb365904d2b1759400ea4'"
      ]
     },
     "execution_count": 12,
     "metadata": {},
     "output_type": "execute_result"
    }
   ],
   "source": [
    "import cryptocompare\n",
    "import pandas as pd\n",
    "import datetime\n",
    "\n",
    "import datetime\n",
    "import requests\n",
    "import json\n",
    "from functools import reduce\n",
    "import matplotlib.pyplot as plt\n",
    "import numpy as np\n",
    "%matplotlib inline\n",
    "\n",
    "\n",
    "CRYPTO_COMPARE_KEY = \"6188db038cad874de5eb7da3821490d45967ae07911bb365904d2b1759400ea4\"\n",
    "cryptocompare.cryptocompare._set_api_key_parameter(CRYPTO_COMPARE_KEY)"
   ]
  },
  {
   "cell_type": "code",
   "execution_count": 2,
   "metadata": {},
   "outputs": [],
   "source": [
    "def get_historical_data(coin:str,\n",
    "                        cur:str,\n",
    "                        ts=int(datetime.datetime.now().timestamp()),\n",
    "                        limit=2000):\n",
    "    data = []\n",
    "    done = False\n",
    "    while not done:\n",
    "        try:\n",
    "            tmp_json = cryptocompare.get_historical_price_hour(coin, cur, limit=limit, toTs=ts)\n",
    "            if tmp_json[0]['volumefrom'] == 0 and tmp_json[0]['volumeto'] == 0:\n",
    "                done = True\n",
    "            else:\n",
    "                data.extend(tmp_json)\n",
    "                ts -= 3600000\n",
    "                done = False\n",
    "        except Exception as err:\n",
    "            print(err)\n",
    "            done = True\n",
    "    return data"
   ]
  },
  {
   "cell_type": "code",
   "execution_count": 1,
   "metadata": {},
   "outputs": [],
   "source": [
    "list_of_coins = ['BTC', 'ETH', 'BUSD', 'USDT']\n",
    "list_of_currencies = ['USD', 'JPY', 'BTC']"
   ]
  },
  {
   "cell_type": "code",
   "execution_count": 9,
   "metadata": {},
   "outputs": [],
   "source": [
    "import json\n",
    "import boto3\n",
    "from botocore.exceptions import ClientError\n",
    "import datetime\n",
    "\n",
    "\n",
    "def upload_json_s3(data, bucket: str, path: str, s3_client=None):\n",
    "    \"\"\"\n",
    "    This function is used to upload a raw json data to an S3 bucket\n",
    "    Params\n",
    "        data: some data to upload to S3\n",
    "        bucket: name of the bucket\n",
    "        path: path for file within the bucket\n",
    "        s3_client: client for S3\n",
    "    Return\n",
    "        True if tables were created, otherwise False \n",
    "    \"\"\"\n",
    "    if not s3_client:\n",
    "        s3_client = boto3.client('s3')\n",
    "    try:\n",
    "        s3_client.put_object(Body=json.dumps(data), Bucket=bucket, Key=path)        \n",
    "    except ClientError as e:\n",
    "        print(e)\n",
    "        return False\n",
    "    return True"
   ]
  },
  {
   "cell_type": "code",
   "execution_count": 5,
   "metadata": {},
   "outputs": [
    {
     "name": "stdout",
     "output_type": "stream",
     "text": [
      "BTC-USD was uploaded!\n",
      "BTC-JPY was uploaded!\n",
      "ETH-USD was uploaded!\n",
      "ETH-JPY was uploaded!\n",
      "ETH-BTC was uploaded!\n",
      "BUSD-USD was uploaded!\n",
      "BUSD-JPY was uploaded!\n",
      "BUSD-BTC was uploaded!\n",
      "USDT-USD was uploaded!\n",
      "USDT-JPY was uploaded!\n",
      "USDT-BTC was uploaded!\n"
     ]
    }
   ],
   "source": [
    "AWS_BUCKET = 'kosmobiker-masterproject'\n",
    "session = boto3.Session(profile_name='master')\n",
    "s3_client = session.client('s3')\n",
    "\n",
    "for coin in list_of_coins:\n",
    "    for cur in list_of_currencies:\n",
    "        if coin != cur:\n",
    "            try:\n",
    "                data = get_historical_data(coin, cur)\n",
    "                filename = f\"{coin}-{cur}\"\n",
    "                path = f\"data/test/input/{filename}.json\"\n",
    "                upload_json_s3(data, AWS_BUCKET, path, s3_client)\n",
    "                print(f\"{filename} was uploaded!\")\n",
    "            except Exception as err:\n",
    "                print(err)"
   ]
  },
  {
   "cell_type": "code",
   "execution_count": 10,
   "metadata": {},
   "outputs": [],
   "source": [
    "def get_daily_data(coin:str,\n",
    "                    cur:str,\n",
    "                    toTs=datetime.datetime.now()) -> List[Dict]:\n",
    "    try:\n",
    "        return cryptocompare.get_historical_price_minute(coin, cur)\n",
    "    except Exception as err:\n",
    "        print(err)\n"
   ]
  },
  {
   "cell_type": "code",
   "execution_count": 14,
   "metadata": {},
   "outputs": [
    {
     "data": {
      "text/plain": [
       "list"
      ]
     },
     "execution_count": 14,
     "metadata": {},
     "output_type": "execute_result"
    }
   ],
   "source": [
    "type(get_daily_data('ETH', 'USDT'))"
   ]
  },
  {
   "cell_type": "code",
   "execution_count": null,
   "metadata": {},
   "outputs": [],
   "source": []
  }
 ],
 "metadata": {
  "kernelspec": {
   "display_name": "Python 3.9.5 ('base')",
   "language": "python",
   "name": "python3"
  },
  "language_info": {
   "codemirror_mode": {
    "name": "ipython",
    "version": 3
   },
   "file_extension": ".py",
   "mimetype": "text/x-python",
   "name": "python",
   "nbconvert_exporter": "python",
   "pygments_lexer": "ipython3",
   "version": "3.9.5"
  },
  "orig_nbformat": 2,
  "vscode": {
   "interpreter": {
    "hash": "b60e44f8122f2f435490d6fa5dce1b580a7583eee9b12ed3a9c2b1ff149db1ba"
   }
  }
 },
 "nbformat": 4,
 "nbformat_minor": 2
}
