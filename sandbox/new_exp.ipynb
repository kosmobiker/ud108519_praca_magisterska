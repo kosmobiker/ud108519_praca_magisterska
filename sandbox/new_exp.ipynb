{
 "cells": [
  {
   "cell_type": "code",
   "execution_count": 66,
   "metadata": {},
   "outputs": [
    {
     "data": {
      "text/plain": "'&api_key=6188db038cad874de5eb7da3821490d45967ae07911bb365904d2b1759400ea4'"
     },
     "execution_count": 66,
     "metadata": {},
     "output_type": "execute_result"
    }
   ],
   "source": [
    "import cryptocompare\r\n",
    "import pandas as pd\r\n",
    "import datetime\r\n",
    "import boto3\r\n",
    "import datetime\r\n",
    "import requests\r\n",
    "import json\r\n",
    "from functools import reduce\r\n",
    "import matplotlib.pyplot as plt\r\n",
    "import numpy as np\r\n",
    "import re\r\n",
    "%matplotlib inline\r\n",
    "from datetime import datetime, timedelta\r\n",
    "import awswrangler as wr\r\n",
    "\r\n",
    "\r\n",
    "CRYPTO_COMPARE_KEY = \"6188db038cad874de5eb7da3821490d45967ae07911bb365904d2b1759400ea4\"\r\n",
    "cryptocompare.cryptocompare._set_api_key_parameter(CRYPTO_COMPARE_KEY)"
   ]
  },
  {
   "cell_type": "code",
   "execution_count": 2,
   "metadata": {},
   "outputs": [],
   "source": [
    "session = boto3.Session(profile_name='master')\r\n",
    "s3_client = session.client('s3')\r\n",
    "bucket = 'kosmobiker-masterproject'"
   ]
  },
  {
   "cell_type": "code",
   "execution_count": 102,
   "metadata": {},
   "outputs": [],
   "source": [
    "def get_list_of_objects_s3(operation_parameters, s3=None):\r\n",
    "    \"\"\"\r\n",
    "    List files in specific S3 URL\r\n",
    "    \"\"\"\r\n",
    "    if not s3:\r\n",
    "        s3 = boto3.client('s3')\r\n",
    "    paginator = s3.get_paginator('list_objects_v2')\r\n",
    "    page_iterator = paginator.paginate(**operation_parameters)\r\n",
    "    for page in page_iterator:\r\n",
    "        for content in page.get('Contents'):\r\n",
    "            if content.get('LastModified') > utc.localize(datetime.now() - timedelta(days=4)):\r\n",
    "                yield content.get('Key')\r\n"
   ]
  },
  {
   "cell_type": "code",
   "execution_count": 103,
   "metadata": {},
   "outputs": [],
   "source": [
    "def get_json_s3(bucket, key, s3=None):\r\n",
    "    \"\"\"\r\n",
    "    Function is used to get JSON file\r\n",
    "    from S3 bucket\r\n",
    "    \"\"\"\r\n",
    "    if not s3:\r\n",
    "        s3 = boto3.client('s3')\r\n",
    "    obj = s3.get_object(Bucket=bucket, Key=key)\r\n",
    "    data = obj['Body'].read().decode('utf-8')\r\n",
    "    return json.loads(data)"
   ]
  },
  {
   "cell_type": "code",
   "execution_count": 104,
   "metadata": {},
   "outputs": [],
   "source": [
    "params = {\r\n",
    "        'Bucket' : bucket,\r\n",
    "        'Prefix' : \"data/daily_crypto_data/\"\r\n",
    "        }"
   ]
  },
  {
   "cell_type": "code",
   "execution_count": 109,
   "metadata": {},
   "outputs": [],
   "source": [
    "data = []\r\n",
    "for key in get_list_of_objects_s3(params, s3_client):\r\n",
    "    try:\r\n",
    "        if key.endswith('.json'):\r\n",
    "            coin_cur = re.findall(\"(?:[0-9]{4}_[0-9]{2}_[0-9]{2})_(.+)(?:.json)\", key)[0]\r\n",
    "            tmp = get_json_s3(bucket, key, s3_client)\r\n",
    "            res = [dict(item, **{'coin_currency':f'{coin_cur}'}) for item in tmp]\r\n",
    "            data.extend(res)\r\n",
    "    except Exception as err:\r\n",
    "        print(err)\r\n",
    "#write to glue table"
   ]
  },
  {
   "cell_type": "code",
   "execution_count": 110,
   "metadata": {},
   "outputs": [
    {
     "data": {
      "text/html": "<div>\n<style scoped>\n    .dataframe tbody tr th:only-of-type {\n        vertical-align: middle;\n    }\n\n    .dataframe tbody tr th {\n        vertical-align: top;\n    }\n\n    .dataframe thead th {\n        text-align: right;\n    }\n</style>\n<table border=\"1\" class=\"dataframe\">\n  <thead>\n    <tr style=\"text-align: right;\">\n      <th></th>\n      <th>time</th>\n      <th>high</th>\n      <th>low</th>\n      <th>open</th>\n      <th>volumefrom</th>\n      <th>volumeto</th>\n      <th>close</th>\n      <th>conversionType</th>\n      <th>conversionSymbol</th>\n      <th>coin_currency</th>\n    </tr>\n  </thead>\n  <tbody>\n    <tr>\n      <th>0</th>\n      <td>1658247600</td>\n      <td>0.01149</td>\n      <td>0.01147</td>\n      <td>0.01148</td>\n      <td>141.66</td>\n      <td>1.6250</td>\n      <td>0.01149</td>\n      <td>direct</td>\n      <td></td>\n      <td>BNB_BTC</td>\n    </tr>\n    <tr>\n      <th>1</th>\n      <td>1658247660</td>\n      <td>0.01149</td>\n      <td>0.01148</td>\n      <td>0.01149</td>\n      <td>254.89</td>\n      <td>2.9230</td>\n      <td>0.01148</td>\n      <td>direct</td>\n      <td></td>\n      <td>BNB_BTC</td>\n    </tr>\n    <tr>\n      <th>2</th>\n      <td>1658247720</td>\n      <td>0.01148</td>\n      <td>0.01146</td>\n      <td>0.01148</td>\n      <td>494.91</td>\n      <td>5.6680</td>\n      <td>0.01146</td>\n      <td>direct</td>\n      <td></td>\n      <td>BNB_BTC</td>\n    </tr>\n    <tr>\n      <th>3</th>\n      <td>1658247780</td>\n      <td>0.01146</td>\n      <td>0.01145</td>\n      <td>0.01146</td>\n      <td>77.17</td>\n      <td>0.8833</td>\n      <td>0.01145</td>\n      <td>direct</td>\n      <td></td>\n      <td>BNB_BTC</td>\n    </tr>\n    <tr>\n      <th>4</th>\n      <td>1658247840</td>\n      <td>0.01146</td>\n      <td>0.01144</td>\n      <td>0.01145</td>\n      <td>257.65</td>\n      <td>2.9470</td>\n      <td>0.01144</td>\n      <td>direct</td>\n      <td></td>\n      <td>BNB_BTC</td>\n    </tr>\n    <tr>\n      <th>...</th>\n      <td>...</td>\n      <td>...</td>\n      <td>...</td>\n      <td>...</td>\n      <td>...</td>\n      <td>...</td>\n      <td>...</td>\n      <td>...</td>\n      <td>...</td>\n      <td>...</td>\n    </tr>\n    <tr>\n      <th>224791</th>\n      <td>1658592960</td>\n      <td>0.35590</td>\n      <td>0.35550</td>\n      <td>0.35550</td>\n      <td>167153.23</td>\n      <td>59429.5600</td>\n      <td>0.35590</td>\n      <td>direct</td>\n      <td></td>\n      <td>XRP_USD</td>\n    </tr>\n    <tr>\n      <th>224792</th>\n      <td>1658593020</td>\n      <td>0.35600</td>\n      <td>0.35590</td>\n      <td>0.35590</td>\n      <td>19342.01</td>\n      <td>6882.5100</td>\n      <td>0.35590</td>\n      <td>direct</td>\n      <td></td>\n      <td>XRP_USD</td>\n    </tr>\n    <tr>\n      <th>224793</th>\n      <td>1658593080</td>\n      <td>0.35590</td>\n      <td>0.35580</td>\n      <td>0.35590</td>\n      <td>14548.59</td>\n      <td>5176.5000</td>\n      <td>0.35580</td>\n      <td>direct</td>\n      <td></td>\n      <td>XRP_USD</td>\n    </tr>\n    <tr>\n      <th>224794</th>\n      <td>1658593140</td>\n      <td>0.35590</td>\n      <td>0.35570</td>\n      <td>0.35580</td>\n      <td>171008.17</td>\n      <td>60829.2600</td>\n      <td>0.35580</td>\n      <td>direct</td>\n      <td></td>\n      <td>XRP_USD</td>\n    </tr>\n    <tr>\n      <th>224795</th>\n      <td>1658593200</td>\n      <td>0.35580</td>\n      <td>0.35570</td>\n      <td>0.35580</td>\n      <td>0.00</td>\n      <td>0.0000</td>\n      <td>0.35570</td>\n      <td>direct</td>\n      <td></td>\n      <td>XRP_USD</td>\n    </tr>\n  </tbody>\n</table>\n<p>224796 rows × 10 columns</p>\n</div>",
      "text/plain": "              time     high      low     open  volumefrom    volumeto  \\\n0       1658247600  0.01149  0.01147  0.01148      141.66      1.6250   \n1       1658247660  0.01149  0.01148  0.01149      254.89      2.9230   \n2       1658247720  0.01148  0.01146  0.01148      494.91      5.6680   \n3       1658247780  0.01146  0.01145  0.01146       77.17      0.8833   \n4       1658247840  0.01146  0.01144  0.01145      257.65      2.9470   \n...            ...      ...      ...      ...         ...         ...   \n224791  1658592960  0.35590  0.35550  0.35550   167153.23  59429.5600   \n224792  1658593020  0.35600  0.35590  0.35590    19342.01   6882.5100   \n224793  1658593080  0.35590  0.35580  0.35590    14548.59   5176.5000   \n224794  1658593140  0.35590  0.35570  0.35580   171008.17  60829.2600   \n224795  1658593200  0.35580  0.35570  0.35580        0.00      0.0000   \n\n          close conversionType conversionSymbol coin_currency  \n0       0.01149         direct                        BNB_BTC  \n1       0.01148         direct                        BNB_BTC  \n2       0.01146         direct                        BNB_BTC  \n3       0.01145         direct                        BNB_BTC  \n4       0.01144         direct                        BNB_BTC  \n...         ...            ...              ...           ...  \n224791  0.35590         direct                        XRP_USD  \n224792  0.35590         direct                        XRP_USD  \n224793  0.35580         direct                        XRP_USD  \n224794  0.35580         direct                        XRP_USD  \n224795  0.35570         direct                        XRP_USD  \n\n[224796 rows x 10 columns]"
     },
     "execution_count": 110,
     "metadata": {},
     "output_type": "execute_result"
    }
   ],
   "source": [
    "pd.DataFrame(data)"
   ]
  },
  {
   "cell_type": "code",
   "execution_count": 81,
   "metadata": {},
   "outputs": [],
   "source": [
    "def write_to_glue(pandas_df: pd.DataFrame, path_table, database_name, table_name):\r\n",
    "    try:\r\n",
    "        wr.s3.to_parquet(\r\n",
    "            df=pandas_df,\r\n",
    "            index=False,\r\n",
    "            path=path_table,\r\n",
    "            dataset=True,\r\n",
    "            database=database_name,\r\n",
    "            compression='snappy',\r\n",
    "            table=table_name,\r\n",
    "            mode=\"append\",\r\n",
    "            # partition_cols=[\"coin\"],\r\n",
    "            use_threads=True,\r\n",
    "            concurrent_partitioning=True,\r\n",
    "            boto3_session=session\r\n",
    "        )\r\n",
    "    except Exception as err:\r\n",
    "        print(err)"
   ]
  },
  {
   "cell_type": "code",
   "execution_count": 78,
   "metadata": {},
   "outputs": [
    {
     "data": {
      "text/html": "<div>\n<style scoped>\n    .dataframe tbody tr th:only-of-type {\n        vertical-align: middle;\n    }\n\n    .dataframe tbody tr th {\n        vertical-align: top;\n    }\n\n    .dataframe thead th {\n        text-align: right;\n    }\n</style>\n<table border=\"1\" class=\"dataframe\">\n  <thead>\n    <tr style=\"text-align: right;\">\n      <th></th>\n      <th>Database</th>\n      <th>Description</th>\n    </tr>\n  </thead>\n  <tbody>\n    <tr>\n      <th>0</th>\n      <td>crypto_data</td>\n      <td>OHLC data + Tweets</td>\n    </tr>\n    <tr>\n      <th>1</th>\n      <td>default</td>\n      <td>Default Hive database</td>\n    </tr>\n    <tr>\n      <th>2</th>\n      <td>master_project</td>\n      <td>this is a test database</td>\n    </tr>\n  </tbody>\n</table>\n</div>",
      "text/plain": "         Database              Description\n0     crypto_data       OHLC data + Tweets\n1         default    Default Hive database\n2  master_project  this is a test database"
     },
     "execution_count": 78,
     "metadata": {},
     "output_type": "execute_result"
    }
   ],
   "source": [
    "wr.catalog.databases(boto3_session=session)\r\n"
   ]
  },
  {
   "cell_type": "code",
   "execution_count": 79,
   "metadata": {},
   "outputs": [],
   "source": [
    "df = pd.DataFrame(data)"
   ]
  },
  {
   "cell_type": "code",
   "execution_count": 84,
   "metadata": {},
   "outputs": [],
   "source": [
    "# write_to_glue(df, path_table=f\"s3://{bucket}/data/crypto_data/\", database_name=\"crypto_data\", table_name='daily_ohlc')"
   ]
  },
  {
   "cell_type": "code",
   "execution_count": 85,
   "metadata": {},
   "outputs": [],
   "source": [
    "params_tweets = {\r\n",
    "        'Bucket' : bucket,\r\n",
    "        'Prefix' : \"data/daily_tweets/\"\r\n",
    "        }"
   ]
  },
  {
   "cell_type": "code",
   "execution_count": 100,
   "metadata": {},
   "outputs": [],
   "source": [
    "import pytz\r\n",
    "\r\n",
    "utc=pytz.UTC\r\n",
    "\r\n",
    "def get_latest_tweets(operation_parameters, s3=None):\r\n",
    "    \"\"\"\r\n",
    "    List files in specific S3 URL\r\n",
    "    \"\"\"\r\n",
    "    if not s3:\r\n",
    "        s3 = boto3.client('s3')\r\n",
    "    paginator = s3.get_paginator('list_objects_v2')\r\n",
    "    page_iterator = paginator.paginate(**operation_parameters)\r\n",
    "    for page in page_iterator:\r\n",
    "        for content in page.get('Contents'):\r\n",
    "            if content.get('LastModified') > utc.localize(datetime.now() - timedelta(days=4)):\r\n",
    "                yield content.get('Key')"
   ]
  },
  {
   "cell_type": "code",
   "execution_count": 111,
   "metadata": {},
   "outputs": [],
   "source": [
    "tweets = []\r\n",
    "for key in get_latest_tweets(params_tweets, s3_client):\r\n",
    "    tmp = get_json_s3(bucket, key, s3_client)\r\n",
    "    tweets.extend(tmp)\r\n"
   ]
  },
  {
   "cell_type": "code",
   "execution_count": 112,
   "metadata": {},
   "outputs": [
    {
     "data": {
      "text/html": "<div>\n<style scoped>\n    .dataframe tbody tr th:only-of-type {\n        vertical-align: middle;\n    }\n\n    .dataframe tbody tr th {\n        vertical-align: top;\n    }\n\n    .dataframe thead th {\n        text-align: right;\n    }\n</style>\n<table border=\"1\" class=\"dataframe\">\n  <thead>\n    <tr style=\"text-align: right;\">\n      <th></th>\n      <th>id</th>\n      <th>created_at</th>\n      <th>ceil_datetime</th>\n      <th>month</th>\n      <th>weekday</th>\n      <th>day</th>\n      <th>hour</th>\n      <th>minute</th>\n      <th>QUERY</th>\n      <th>ticker</th>\n      <th>text</th>\n      <th>favorite_count</th>\n      <th>result_type</th>\n      <th>user_name</th>\n      <th>followers_count</th>\n      <th>retweet_count</th>\n    </tr>\n  </thead>\n  <tbody>\n    <tr>\n      <th>0</th>\n      <td>1549486114490179590</td>\n      <td>2022-07-19 20:07:32</td>\n      <td>2022-07-19 20:15:00</td>\n      <td>7</td>\n      <td>2</td>\n      <td>19</td>\n      <td>20</td>\n      <td>15</td>\n      <td>bitcoin</td>\n      <td>BTC</td>\n      <td>In Q2 2022, #Bitcoin mining efficiency surged ...</td>\n      <td>3410</td>\n      <td>popular</td>\n      <td>saylor</td>\n      <td>2632470</td>\n      <td>683</td>\n    </tr>\n    <tr>\n      <th>1</th>\n      <td>1549125925022928898</td>\n      <td>2022-07-18 20:16:16</td>\n      <td>2022-07-18 20:30:00</td>\n      <td>7</td>\n      <td>1</td>\n      <td>18</td>\n      <td>20</td>\n      <td>30</td>\n      <td>bitcoin</td>\n      <td>BTC</td>\n      <td>Facebook's former Head of Messenger: #Bitcoin ...</td>\n      <td>3401</td>\n      <td>popular</td>\n      <td>BitcoinMagazine</td>\n      <td>2572534</td>\n      <td>667</td>\n    </tr>\n    <tr>\n      <th>2</th>\n      <td>1549099043153928192</td>\n      <td>2022-07-18 18:29:27</td>\n      <td>2022-07-18 18:30:00</td>\n      <td>7</td>\n      <td>1</td>\n      <td>18</td>\n      <td>18</td>\n      <td>30</td>\n      <td>bitcoin</td>\n      <td>BTC</td>\n      <td>Former $10 trillion BlackRock manager: \"#Bitco...</td>\n      <td>4414</td>\n      <td>popular</td>\n      <td>BitcoinMagazine</td>\n      <td>2572534</td>\n      <td>795</td>\n    </tr>\n    <tr>\n      <th>3</th>\n      <td>1549544628097089538</td>\n      <td>2022-07-20 00:00:03</td>\n      <td>2022-07-20 00:15:00</td>\n      <td>7</td>\n      <td>3</td>\n      <td>20</td>\n      <td>0</td>\n      <td>15</td>\n      <td>bitcoin</td>\n      <td>BTC</td>\n      <td>https://t.co/t6kVcSK6IH\\n\\nCrypto market:\\n$XE...</td>\n      <td>0</td>\n      <td>recent</td>\n      <td>CryptoTreeMap</td>\n      <td>75</td>\n      <td>0</td>\n    </tr>\n    <tr>\n      <th>4</th>\n      <td>1549544627664916480</td>\n      <td>2022-07-20 00:00:03</td>\n      <td>2022-07-20 00:15:00</td>\n      <td>7</td>\n      <td>3</td>\n      <td>20</td>\n      <td>0</td>\n      <td>15</td>\n      <td>bitcoin</td>\n      <td>BTC</td>\n      <td>$BTCUSD ALERT: 24hr volume was 73.53% higher t...</td>\n      <td>0</td>\n      <td>recent</td>\n      <td>btcusdalerts</td>\n      <td>1197</td>\n      <td>0</td>\n    </tr>\n    <tr>\n      <th>...</th>\n      <td>...</td>\n      <td>...</td>\n      <td>...</td>\n      <td>...</td>\n      <td>...</td>\n      <td>...</td>\n      <td>...</td>\n      <td>...</td>\n      <td>...</td>\n      <td>...</td>\n      <td>...</td>\n      <td>...</td>\n      <td>...</td>\n      <td>...</td>\n      <td>...</td>\n      <td>...</td>\n    </tr>\n    <tr>\n      <th>37058</th>\n      <td>1550182467654496256</td>\n      <td>2022-07-21 18:14:35</td>\n      <td>2022-07-21 18:15:00</td>\n      <td>7</td>\n      <td>4</td>\n      <td>21</td>\n      <td>18</td>\n      <td>15</td>\n      <td>Litecoin</td>\n      <td>LTC</td>\n      <td>@litecoin @BinanceAcademy Altcoins again? Can ...</td>\n      <td>1</td>\n      <td>recent</td>\n      <td>MdAtiqu18884986</td>\n      <td>35</td>\n      <td>0</td>\n    </tr>\n    <tr>\n      <th>37059</th>\n      <td>1550182403737518081</td>\n      <td>2022-07-21 18:14:20</td>\n      <td>2022-07-21 18:15:00</td>\n      <td>7</td>\n      <td>4</td>\n      <td>21</td>\n      <td>18</td>\n      <td>15</td>\n      <td>Litecoin</td>\n      <td>LTC</td>\n      <td>Litecoin mining 10 times slower than a couple ...</td>\n      <td>0</td>\n      <td>recent</td>\n      <td>Programmatoris</td>\n      <td>527</td>\n      <td>0</td>\n    </tr>\n    <tr>\n      <th>37060</th>\n      <td>1550182368547426307</td>\n      <td>2022-07-21 18:14:12</td>\n      <td>2022-07-21 18:15:00</td>\n      <td>7</td>\n      <td>4</td>\n      <td>21</td>\n      <td>18</td>\n      <td>15</td>\n      <td>Litecoin</td>\n      <td>LTC</td>\n      <td>RT @PhibbiX: 250$ Litecoin Giveaway \\n5 Winner...</td>\n      <td>0</td>\n      <td>recent</td>\n      <td>gabriellcristea</td>\n      <td>274</td>\n      <td>220</td>\n    </tr>\n    <tr>\n      <th>37061</th>\n      <td>1550182341468860416</td>\n      <td>2022-07-21 18:14:05</td>\n      <td>2022-07-21 18:15:00</td>\n      <td>7</td>\n      <td>4</td>\n      <td>21</td>\n      <td>18</td>\n      <td>15</td>\n      <td>Litecoin</td>\n      <td>LTC</td>\n      <td>RT @coin_gabbar: #CoinGabbar Prediction:\\n#LIT...</td>\n      <td>0</td>\n      <td>recent</td>\n      <td>rajputana_jayu</td>\n      <td>8</td>\n      <td>61</td>\n    </tr>\n    <tr>\n      <th>37062</th>\n      <td>1550182328495968256</td>\n      <td>2022-07-21 18:14:02</td>\n      <td>2022-07-21 18:15:00</td>\n      <td>7</td>\n      <td>4</td>\n      <td>21</td>\n      <td>18</td>\n      <td>15</td>\n      <td>Litecoin</td>\n      <td>LTC</td>\n      <td>RT @PhibbiX: 250$ Litecoin Giveaway \\n5 Winner...</td>\n      <td>0</td>\n      <td>recent</td>\n      <td>MensurSmaili</td>\n      <td>70</td>\n      <td>220</td>\n    </tr>\n  </tbody>\n</table>\n<p>37063 rows × 16 columns</p>\n</div>",
      "text/plain": "                        id           created_at        ceil_datetime  month  \\\n0      1549486114490179590  2022-07-19 20:07:32  2022-07-19 20:15:00      7   \n1      1549125925022928898  2022-07-18 20:16:16  2022-07-18 20:30:00      7   \n2      1549099043153928192  2022-07-18 18:29:27  2022-07-18 18:30:00      7   \n3      1549544628097089538  2022-07-20 00:00:03  2022-07-20 00:15:00      7   \n4      1549544627664916480  2022-07-20 00:00:03  2022-07-20 00:15:00      7   \n...                    ...                  ...                  ...    ...   \n37058  1550182467654496256  2022-07-21 18:14:35  2022-07-21 18:15:00      7   \n37059  1550182403737518081  2022-07-21 18:14:20  2022-07-21 18:15:00      7   \n37060  1550182368547426307  2022-07-21 18:14:12  2022-07-21 18:15:00      7   \n37061  1550182341468860416  2022-07-21 18:14:05  2022-07-21 18:15:00      7   \n37062  1550182328495968256  2022-07-21 18:14:02  2022-07-21 18:15:00      7   \n\n       weekday  day  hour  minute     QUERY ticker  \\\n0            2   19    20      15   bitcoin    BTC   \n1            1   18    20      30   bitcoin    BTC   \n2            1   18    18      30   bitcoin    BTC   \n3            3   20     0      15   bitcoin    BTC   \n4            3   20     0      15   bitcoin    BTC   \n...        ...  ...   ...     ...       ...    ...   \n37058        4   21    18      15  Litecoin    LTC   \n37059        4   21    18      15  Litecoin    LTC   \n37060        4   21    18      15  Litecoin    LTC   \n37061        4   21    18      15  Litecoin    LTC   \n37062        4   21    18      15  Litecoin    LTC   \n\n                                                    text  favorite_count  \\\n0      In Q2 2022, #Bitcoin mining efficiency surged ...            3410   \n1      Facebook's former Head of Messenger: #Bitcoin ...            3401   \n2      Former $10 trillion BlackRock manager: \"#Bitco...            4414   \n3      https://t.co/t6kVcSK6IH\\n\\nCrypto market:\\n$XE...               0   \n4      $BTCUSD ALERT: 24hr volume was 73.53% higher t...               0   \n...                                                  ...             ...   \n37058  @litecoin @BinanceAcademy Altcoins again? Can ...               1   \n37059  Litecoin mining 10 times slower than a couple ...               0   \n37060  RT @PhibbiX: 250$ Litecoin Giveaway \\n5 Winner...               0   \n37061  RT @coin_gabbar: #CoinGabbar Prediction:\\n#LIT...               0   \n37062  RT @PhibbiX: 250$ Litecoin Giveaway \\n5 Winner...               0   \n\n      result_type        user_name  followers_count  retweet_count  \n0         popular           saylor          2632470            683  \n1         popular  BitcoinMagazine          2572534            667  \n2         popular  BitcoinMagazine          2572534            795  \n3          recent    CryptoTreeMap               75              0  \n4          recent     btcusdalerts             1197              0  \n...           ...              ...              ...            ...  \n37058      recent  MdAtiqu18884986               35              0  \n37059      recent   Programmatoris              527              0  \n37060      recent  gabriellcristea              274            220  \n37061      recent   rajputana_jayu                8             61  \n37062      recent     MensurSmaili               70            220  \n\n[37063 rows x 16 columns]"
     },
     "execution_count": 112,
     "metadata": {},
     "output_type": "execute_result"
    }
   ],
   "source": [
    "pd.DataFrame(tweets)"
   ]
  },
  {
   "cell_type": "code",
   "execution_count": null,
   "metadata": {},
   "outputs": [],
   "source": []
  }
 ],
 "metadata": {
  "kernelspec": {
   "display_name": "Python 3.9.4 64-bit",
   "metadata": {
    "interpreter": {
     "hash": "ac59ebe37160ed0dfa835113d9b8498d9f09ceb179beaac4002f036b9467c963"
    }
   },
   "name": "python3"
  },
  "language_info": {
   "codemirror_mode": {
    "name": "ipython",
    "version": 3
   },
   "file_extension": ".py",
   "mimetype": "text/x-python",
   "name": "python",
   "nbconvert_exporter": "python",
   "pygments_lexer": "ipython3",
   "version": "3.9.4"
  },
  "orig_nbformat": 2,
  "vscode": {
   "interpreter": {
    "hash": "b60e44f8122f2f435490d6fa5dce1b580a7583eee9b12ed3a9c2b1ff149db1ba"
   }
  }
 },
 "nbformat": 4,
 "nbformat_minor": 2
}