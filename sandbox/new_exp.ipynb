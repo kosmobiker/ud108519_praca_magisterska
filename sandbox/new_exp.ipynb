{
 "cells": [
  {
   "cell_type": "code",
   "execution_count": 12,
   "metadata": {},
   "outputs": [
    {
     "data": {
      "text/plain": "'&api_key=6188db038cad874de5eb7da3821490d45967ae07911bb365904d2b1759400ea4'"
     },
     "execution_count": 12,
     "metadata": {},
     "output_type": "execute_result"
    }
   ],
   "source": [
    "import cryptocompare\r\n",
    "import pandas as pd\r\n",
    "import datetime\r\n",
    "\r\n",
    "import datetime\r\n",
    "import requests\r\n",
    "import json\r\n",
    "from functools import reduce\r\n",
    "import matplotlib.pyplot as plt\r\n",
    "import numpy as np\r\n",
    "%matplotlib inline\r\n",
    "\r\n",
    "\r\n",
    "CRYPTO_COMPARE_KEY = \"6188db038cad874de5eb7da3821490d45967ae07911bb365904d2b1759400ea4\"\r\n",
    "cryptocompare.cryptocompare._set_api_key_parameter(CRYPTO_COMPARE_KEY)"
   ]
  },
  {
   "cell_type": "code",
   "execution_count": 2,
   "metadata": {},
   "outputs": [],
   "source": [
    "def get_historical_data(coin:str,\r\n",
    "                        cur:str,\r\n",
    "                        ts=int(datetime.datetime.now().timestamp()),\r\n",
    "                        limit=2000):\r\n",
    "    data = []\r\n",
    "    done = False\r\n",
    "    while not done:\r\n",
    "        try:\r\n",
    "            tmp_json = cryptocompare.get_historical_price_hour(coin, cur, limit=limit, toTs=ts)\r\n",
    "            if tmp_json[0]['volumefrom'] == 0 and tmp_json[0]['volumeto'] == 0:\r\n",
    "                done = True\r\n",
    "            else:\r\n",
    "                data.extend(tmp_json)\r\n",
    "                ts -= 3600000\r\n",
    "                done = False\r\n",
    "        except Exception as err:\r\n",
    "            print(err)\r\n",
    "            done = True\r\n",
    "    return data"
   ]
  },
  {
   "cell_type": "code",
   "execution_count": 3,
   "metadata": {},
   "outputs": [],
   "source": [
    "list_of_coins = ['BTC', 'ETH', 'BUSD', 'USDT']\r\n",
    "list_of_currencies = ['USD', 'JPY', 'BTC']"
   ]
  },
  {
   "cell_type": "code",
   "execution_count": 9,
   "metadata": {},
   "outputs": [],
   "source": [
    "import json\r\n",
    "import boto3\r\n",
    "from botocore.exceptions import ClientError\r\n",
    "import datetime\r\n",
    "\r\n",
    "\r\n",
    "def upload_json_s3(data, bucket: str, path: str, s3_client=None):\r\n",
    "    \"\"\"\r\n",
    "    This function is used to upload a raw json data to an S3 bucket\r\n",
    "    Params\r\n",
    "        data: some data to upload to S3\r\n",
    "        bucket: name of the bucket\r\n",
    "        path: path for file within the bucket\r\n",
    "        s3_client: client for S3\r\n",
    "    Return\r\n",
    "        True if tables were created, otherwise False \r\n",
    "    \"\"\"\r\n",
    "    if not s3_client:\r\n",
    "        s3_client = boto3.client('s3')\r\n",
    "    try:\r\n",
    "        s3_client.put_object(Body=json.dumps(data), Bucket=bucket, Key=path)        \r\n",
    "    except ClientError as e:\r\n",
    "        print(e)\r\n",
    "        return False\r\n",
    "    return True"
   ]
  },
  {
   "cell_type": "code",
   "execution_count": 5,
   "metadata": {},
   "outputs": [
    {
     "name": "stdout",
     "output_type": "stream",
     "text": [
      "BTC-USD was uploaded!\n",
      "BTC-JPY was uploaded!\n",
      "ETH-USD was uploaded!\n",
      "ETH-JPY was uploaded!\n",
      "ETH-BTC was uploaded!\n",
      "BUSD-USD was uploaded!\n",
      "BUSD-JPY was uploaded!\n",
      "BUSD-BTC was uploaded!\n",
      "USDT-USD was uploaded!\n",
      "USDT-JPY was uploaded!\n",
      "USDT-BTC was uploaded!\n"
     ]
    }
   ],
   "source": [
    "AWS_BUCKET = 'kosmobiker-masterproject'\r\n",
    "session = boto3.Session(profile_name='master')\r\n",
    "s3_client = session.client('s3')\r\n",
    "\r\n",
    "for coin in list_of_coins:\r\n",
    "    for cur in list_of_currencies:\r\n",
    "        if coin != cur:\r\n",
    "            try:\r\n",
    "                data = get_historical_data(coin, cur)\r\n",
    "                filename = f\"{coin}-{cur}\"\r\n",
    "                path = f\"data/test/input/{filename}.json\"\r\n",
    "                upload_json_s3(data, AWS_BUCKET, path, s3_client)\r\n",
    "                print(f\"{filename} was uploaded!\")\r\n",
    "            except Exception as err:\r\n",
    "                print(err)"
   ]
  },
  {
   "cell_type": "code",
   "execution_count": 10,
   "metadata": {},
   "outputs": [],
   "source": [
    "def get_daily_data(coin:str,\r\n",
    "                    cur:str,\r\n",
    "                    toTs=datetime.datetime.now()) -> List[Dict]:\r\n",
    "    try:\r\n",
    "        return cryptocompare.get_historical_price_minute(coin, cur)\r\n",
    "    except Exception as err:\r\n",
    "        print(err)\r\n"
   ]
  },
  {
   "cell_type": "code",
   "execution_count": 14,
   "metadata": {},
   "outputs": [
    {
     "data": {
      "text/plain": "list"
     },
     "execution_count": 14,
     "metadata": {},
     "output_type": "execute_result"
    }
   ],
   "source": [
    "type(get_daily_data('ETH', 'USDT'))"
   ]
  },
  {
   "cell_type": "code",
   "execution_count": null,
   "metadata": {},
   "outputs": [],
   "source": []
  }
 ],
 "metadata": {
  "kernelspec": {
   "display_name": "Python 3.9.4 64-bit",
   "metadata": {
    "interpreter": {
     "hash": "ac59ebe37160ed0dfa835113d9b8498d9f09ceb179beaac4002f036b9467c963"
    }
   },
   "name": "python3"
  },
  "language_info": {
   "codemirror_mode": {
    "name": "ipython",
    "version": 3
   },
   "file_extension": ".py",
   "mimetype": "text/x-python",
   "name": "python",
   "nbconvert_exporter": "python",
   "pygments_lexer": "ipython3",
   "version": "3.9.4"
  },
  "orig_nbformat": 2
 },
 "nbformat": 4,
 "nbformat_minor": 2
}