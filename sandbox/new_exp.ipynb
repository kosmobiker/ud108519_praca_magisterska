{
 "cells": [
  {
   "cell_type": "code",
   "execution_count": 1,
   "metadata": {},
   "outputs": [
    {
     "data": {
      "text/plain": "'&api_key=6188db038cad874de5eb7da3821490d45967ae07911bb365904d2b1759400ea4'"
     },
     "execution_count": 1,
     "metadata": {},
     "output_type": "execute_result"
    }
   ],
   "source": [
    "import cryptocompare\n",
    "import pandas as pd\n",
    "import datetime\n",
    "import boto3\n",
    "import datetime\n",
    "import requests\n",
    "import json\n",
    "from functools import reduce\n",
    "import matplotlib.pyplot as plt\n",
    "import numpy as np\n",
    "import re\n",
    "%matplotlib inline\n",
    "from datetime import datetime, timedelta\n",
    "import awswrangler as wr\n",
    "pd.set_option('display.max_columns', None)\n",
    "\n",
    "import pytz\n",
    "\n",
    "utc=pytz.UTC\n",
    "\n",
    "\n",
    "CRYPTO_COMPARE_KEY = \"6188db038cad874de5eb7da3821490d45967ae07911bb365904d2b1759400ea4\"\n",
    "cryptocompare.cryptocompare._set_api_key_parameter(CRYPTO_COMPARE_KEY)"
   ]
  },
  {
   "cell_type": "code",
   "execution_count": 2,
   "metadata": {},
   "outputs": [],
   "source": [
    "session = boto3.Session(profile_name='master')\n",
    "s3_client = session.client('s3')\n",
    "bucket = 'kosmobiker-masterproject'"
   ]
  },
  {
   "cell_type": "code",
   "execution_count": 3,
   "metadata": {},
   "outputs": [],
   "source": [
    "def get_list_of_objects_s3(operation_parameters, s3=None):\n",
    "    \"\"\"\n",
    "    List files in specific S3 URL\n",
    "    \"\"\"\n",
    "    if not s3:\n",
    "        s3 = boto3.client('s3')\n",
    "    paginator = s3.get_paginator('list_objects_v2')\n",
    "    page_iterator = paginator.paginate(**operation_parameters)\n",
    "    for page in page_iterator:\n",
    "        for content in page.get('Contents'):\n",
    "            if content.get('LastModified') > utc.localize(datetime.now() - timedelta(days=4)):\n",
    "                yield content.get('Key')\n"
   ]
  },
  {
   "cell_type": "code",
   "execution_count": 4,
   "metadata": {},
   "outputs": [],
   "source": [
    "def get_json_s3(bucket, key, s3=None):\n",
    "    \"\"\"\n",
    "    Function is used to get JSON file\n",
    "    from S3 bucket\n",
    "    \"\"\"\n",
    "    if not s3:\n",
    "        s3 = boto3.client('s3')\n",
    "    obj = s3.get_object(Bucket=bucket, Key=key)\n",
    "    data = obj['Body'].read().decode('utf-8')\n",
    "    return json.loads(data)"
   ]
  },
  {
   "cell_type": "code",
   "execution_count": 5,
   "metadata": {},
   "outputs": [],
   "source": [
    "params = {\n",
    "        'Bucket' : bucket,\n",
    "        'Prefix' : \"data/daily_crypto_data/\"\n",
    "        }"
   ]
  },
  {
   "cell_type": "code",
   "execution_count": 7,
   "metadata": {},
   "outputs": [],
   "source": [
    "data = []\n",
    "for key in get_list_of_objects_s3(params, s3_client):\n",
    "    try:\n",
    "        if key.endswith('.json'):\n",
    "            coin_cur = re.findall(\"(?:[0-9]{4}_[0-9]{2}_[0-9]{2})_(.+)(?:.json)\", key)[0]\n",
    "            tmp = get_json_s3(bucket, key, s3_client)\n",
    "            res = [dict(item, **{'coin_currency':f'{coin_cur}'}) for item in tmp]\n",
    "            data.extend(res)\n",
    "    except Exception as err:\n",
    "        print(err)\n",
    "#write to glue table"
   ]
  },
  {
   "cell_type": "code",
   "execution_count": 8,
   "metadata": {},
   "outputs": [],
   "source": [
    "df_test = pd.DataFrame(data)"
   ]
  },
  {
   "cell_type": "code",
   "execution_count": 9,
   "metadata": {},
   "outputs": [
    {
     "data": {
      "text/html": "<div>\n<style scoped>\n    .dataframe tbody tr th:only-of-type {\n        vertical-align: middle;\n    }\n\n    .dataframe tbody tr th {\n        vertical-align: top;\n    }\n\n    .dataframe thead th {\n        text-align: right;\n    }\n</style>\n<table border=\"1\" class=\"dataframe\">\n  <thead>\n    <tr style=\"text-align: right;\">\n      <th></th>\n      <th>time</th>\n      <th>high</th>\n      <th>low</th>\n      <th>open</th>\n      <th>volumefrom</th>\n      <th>volumeto</th>\n      <th>close</th>\n      <th>conversionType</th>\n      <th>conversionSymbol</th>\n      <th>coin_currency</th>\n      <th>partition_column</th>\n    </tr>\n  </thead>\n  <tbody>\n    <tr>\n      <th>0</th>\n      <td>1659054600</td>\n      <td>0.01162</td>\n      <td>0.01162</td>\n      <td>0.01162</td>\n      <td>60.63</td>\n      <td>0.7048</td>\n      <td>0.01162</td>\n      <td>direct</td>\n      <td></td>\n      <td>BNB_BTC</td>\n      <td>2022-07-29</td>\n    </tr>\n    <tr>\n      <th>1</th>\n      <td>1659054660</td>\n      <td>0.01163</td>\n      <td>0.01162</td>\n      <td>0.01162</td>\n      <td>56.18</td>\n      <td>0.6535</td>\n      <td>0.01163</td>\n      <td>direct</td>\n      <td></td>\n      <td>BNB_BTC</td>\n      <td>2022-07-29</td>\n    </tr>\n    <tr>\n      <th>2</th>\n      <td>1659054720</td>\n      <td>0.01164</td>\n      <td>0.01163</td>\n      <td>0.01163</td>\n      <td>42.43</td>\n      <td>0.4938</td>\n      <td>0.01164</td>\n      <td>direct</td>\n      <td></td>\n      <td>BNB_BTC</td>\n      <td>2022-07-29</td>\n    </tr>\n    <tr>\n      <th>3</th>\n      <td>1659054780</td>\n      <td>0.01165</td>\n      <td>0.01164</td>\n      <td>0.01164</td>\n      <td>51.33</td>\n      <td>0.5979</td>\n      <td>0.01165</td>\n      <td>direct</td>\n      <td></td>\n      <td>BNB_BTC</td>\n      <td>2022-07-29</td>\n    </tr>\n    <tr>\n      <th>4</th>\n      <td>1659054840</td>\n      <td>0.01166</td>\n      <td>0.01165</td>\n      <td>0.01165</td>\n      <td>98.17</td>\n      <td>1.1450</td>\n      <td>0.01166</td>\n      <td>direct</td>\n      <td></td>\n      <td>BNB_BTC</td>\n      <td>2022-07-29</td>\n    </tr>\n    <tr>\n      <th>...</th>\n      <td>...</td>\n      <td>...</td>\n      <td>...</td>\n      <td>...</td>\n      <td>...</td>\n      <td>...</td>\n      <td>...</td>\n      <td>...</td>\n      <td>...</td>\n      <td>...</td>\n      <td>...</td>\n    </tr>\n    <tr>\n      <th>224791</th>\n      <td>1659399960</td>\n      <td>0.38110</td>\n      <td>0.38060</td>\n      <td>0.38110</td>\n      <td>78119.74</td>\n      <td>29740.5700</td>\n      <td>0.38060</td>\n      <td>direct</td>\n      <td></td>\n      <td>XRP_USD</td>\n      <td>2022-08-02</td>\n    </tr>\n    <tr>\n      <th>224792</th>\n      <td>1659400020</td>\n      <td>0.38090</td>\n      <td>0.38060</td>\n      <td>0.38060</td>\n      <td>56706.23</td>\n      <td>21597.1300</td>\n      <td>0.38090</td>\n      <td>direct</td>\n      <td></td>\n      <td>XRP_USD</td>\n      <td>2022-08-02</td>\n    </tr>\n    <tr>\n      <th>224793</th>\n      <td>1659400080</td>\n      <td>0.38100</td>\n      <td>0.38090</td>\n      <td>0.38090</td>\n      <td>37514.45</td>\n      <td>14298.2800</td>\n      <td>0.38100</td>\n      <td>direct</td>\n      <td></td>\n      <td>XRP_USD</td>\n      <td>2022-08-02</td>\n    </tr>\n    <tr>\n      <th>224794</th>\n      <td>1659400140</td>\n      <td>0.38100</td>\n      <td>0.38100</td>\n      <td>0.38100</td>\n      <td>58546.00</td>\n      <td>22316.5300</td>\n      <td>0.38100</td>\n      <td>direct</td>\n      <td></td>\n      <td>XRP_USD</td>\n      <td>2022-08-02</td>\n    </tr>\n    <tr>\n      <th>224795</th>\n      <td>1659400200</td>\n      <td>0.38100</td>\n      <td>0.38100</td>\n      <td>0.38100</td>\n      <td>0.00</td>\n      <td>0.0000</td>\n      <td>0.38100</td>\n      <td>direct</td>\n      <td></td>\n      <td>XRP_USD</td>\n      <td>2022-08-02</td>\n    </tr>\n  </tbody>\n</table>\n<p>224796 rows × 11 columns</p>\n</div>",
      "text/plain": "              time     high      low     open  volumefrom    volumeto  \\\n0       1659054600  0.01162  0.01162  0.01162       60.63      0.7048   \n1       1659054660  0.01163  0.01162  0.01162       56.18      0.6535   \n2       1659054720  0.01164  0.01163  0.01163       42.43      0.4938   \n3       1659054780  0.01165  0.01164  0.01164       51.33      0.5979   \n4       1659054840  0.01166  0.01165  0.01165       98.17      1.1450   \n...            ...      ...      ...      ...         ...         ...   \n224791  1659399960  0.38110  0.38060  0.38110    78119.74  29740.5700   \n224792  1659400020  0.38090  0.38060  0.38060    56706.23  21597.1300   \n224793  1659400080  0.38100  0.38090  0.38090    37514.45  14298.2800   \n224794  1659400140  0.38100  0.38100  0.38100    58546.00  22316.5300   \n224795  1659400200  0.38100  0.38100  0.38100        0.00      0.0000   \n\n          close conversionType conversionSymbol coin_currency partition_column  \n0       0.01162         direct                        BNB_BTC       2022-07-29  \n1       0.01163         direct                        BNB_BTC       2022-07-29  \n2       0.01164         direct                        BNB_BTC       2022-07-29  \n3       0.01165         direct                        BNB_BTC       2022-07-29  \n4       0.01166         direct                        BNB_BTC       2022-07-29  \n...         ...            ...              ...           ...              ...  \n224791  0.38060         direct                        XRP_USD       2022-08-02  \n224792  0.38090         direct                        XRP_USD       2022-08-02  \n224793  0.38100         direct                        XRP_USD       2022-08-02  \n224794  0.38100         direct                        XRP_USD       2022-08-02  \n224795  0.38100         direct                        XRP_USD       2022-08-02  \n\n[224796 rows x 11 columns]"
     },
     "execution_count": 9,
     "metadata": {},
     "output_type": "execute_result"
    }
   ],
   "source": [
    "df_test['partition_column'] = pd.to_datetime(df_test['time'], unit='s').dt.strftime('%Y-%m-%d')\n",
    "df_test"
   ]
  },
  {
   "cell_type": "code",
   "execution_count": 17,
   "metadata": {},
   "outputs": [
    {
     "data": {
      "text/plain": "time                  int64\nhigh                float64\nlow                 float64\nopen                float64\nvolumefrom          float64\nvolumeto            float64\nclose               float64\nconversiontype       object\nconversionsymbol     object\ncoin_currency        object\npartition_column     object\ndtype: object"
     },
     "execution_count": 17,
     "metadata": {},
     "output_type": "execute_result"
    }
   ],
   "source": [
    "df_test.dtypes"
   ]
  },
  {
   "cell_type": "code",
   "execution_count": 26,
   "metadata": {},
   "outputs": [],
   "source": [
    "def write_to_glue(pandas_df: pd.DataFrame, path_table, database_name, table_name, col_partition):\r\n",
    "    try:\r\n",
    "        wr.s3.to_parquet(\r\n",
    "            df=pandas_df,\r\n",
    "            index=False,\r\n",
    "            path=path_table,\r\n",
    "            dataset=True,\r\n",
    "            database=database_name,\r\n",
    "            compression='snappy',\r\n",
    "            table=table_name,\r\n",
    "            mode=\"overwrite_partitions\",\r\n",
    "            partition_cols=col_partition,\r\n",
    "            use_threads=True,\r\n",
    "            concurrent_partitioning=True,\r\n",
    "            boto3_session=session\r\n",
    "        )\r\n",
    "    except Exception as err:\r\n",
    "        print(err)"
   ]
  },
  {
   "cell_type": "code",
   "execution_count": 29,
   "metadata": {},
   "outputs": [
    {
     "data": {
      "text/html": "<div>\n<style scoped>\n    .dataframe tbody tr th:only-of-type {\n        vertical-align: middle;\n    }\n\n    .dataframe tbody tr th {\n        vertical-align: top;\n    }\n\n    .dataframe thead th {\n        text-align: right;\n    }\n</style>\n<table border=\"1\" class=\"dataframe\">\n  <thead>\n    <tr style=\"text-align: right;\">\n      <th></th>\n      <th>Database</th>\n      <th>Description</th>\n    </tr>\n  </thead>\n  <tbody>\n    <tr>\n      <th>0</th>\n      <td>crypto_data</td>\n      <td>OHLC data + Tweets</td>\n    </tr>\n    <tr>\n      <th>1</th>\n      <td>default</td>\n      <td>Default Hive database</td>\n    </tr>\n    <tr>\n      <th>2</th>\n      <td>master_project</td>\n      <td>this is a test database</td>\n    </tr>\n  </tbody>\n</table>\n</div>",
      "text/plain": "         Database              Description\n0     crypto_data       OHLC data + Tweets\n1         default    Default Hive database\n2  master_project  this is a test database"
     },
     "execution_count": 29,
     "metadata": {},
     "output_type": "execute_result"
    }
   ],
   "source": [
    "wr.catalog.databases(boto3_session=session)\n"
   ]
  },
  {
   "cell_type": "code",
   "execution_count": 33,
   "metadata": {},
   "outputs": [
    {
     "data": {
      "text/html": "<div>\n<style scoped>\n    .dataframe tbody tr th:only-of-type {\n        vertical-align: middle;\n    }\n\n    .dataframe tbody tr th {\n        vertical-align: top;\n    }\n\n    .dataframe thead th {\n        text-align: right;\n    }\n</style>\n<table border=\"1\" class=\"dataframe\">\n  <thead>\n    <tr style=\"text-align: right;\">\n      <th></th>\n      <th>Database</th>\n      <th>Table</th>\n      <th>Description</th>\n      <th>TableType</th>\n      <th>Columns</th>\n      <th>Partitions</th>\n    </tr>\n  </thead>\n  <tbody>\n    <tr>\n      <th>0</th>\n      <td>crypto_data</td>\n      <td>ohlc_data</td>\n      <td>test_table</td>\n      <td>EXTERNAL_TABLE</td>\n      <td>time, high, low, open, volumefrom, volumeto, c...</td>\n      <td>partition_column</td>\n    </tr>\n  </tbody>\n</table>\n</div>",
      "text/plain": "      Database      Table Description       TableType  \\\n0  crypto_data  ohlc_data  test_table  EXTERNAL_TABLE   \n\n                                             Columns        Partitions  \n0  time, high, low, open, volumefrom, volumeto, c...  partition_column  "
     },
     "execution_count": 33,
     "metadata": {},
     "output_type": "execute_result"
    }
   ],
   "source": [
    "wr.catalog.tables(database=\"crypto_data\",boto3_session=session)"
   ]
  },
  {
   "cell_type": "code",
   "execution_count": 31,
   "metadata": {},
   "outputs": [],
   "source": [
    "# columns_types_dict = {\r\n",
    "#     'time' : 'bigint',\r\n",
    "#     'high' : 'double',\r\n",
    "#     'low'  : 'double',\r\n",
    "#     'open' : 'double',\r\n",
    "#     'volumefrom'  : 'double',\r\n",
    "#     'volumeto' : 'double',\r\n",
    "#     'close'  : 'double',\r\n",
    "#     'conversiontype' : 'string',\r\n",
    "#     'conversionsymbol' : 'string',\r\n",
    "#     'coin_currency'  : 'string',\r\n",
    "# }\r\n",
    "\r\n",
    "# wr.catalog.create_parquet_table(\r\n",
    "#     database='crypto_data',\r\n",
    "#     table='ohlc_data',\r\n",
    "#     path=f's3://{bucket}/data/crypto_data/ohlc_data',\r\n",
    "#     columns_types=columns_types_dict,\r\n",
    "#     partitions_types={'partition_column' : 'string'},\r\n",
    "#     compression='snappy',\r\n",
    "#     description='test_table',\r\n",
    "#     boto3_session=session\r\n",
    "# )"
   ]
  },
  {
   "cell_type": "code",
   "execution_count": 32,
   "metadata": {},
   "outputs": [
    {
     "name": "stdout",
     "output_type": "stream",
     "text": [
      "CPU times: total: 0 ns\n",
      "Wall time: 0 ns\n"
     ]
    }
   ],
   "source": [
    "%time\r\n",
    "write_to_glue(df_test, path_table=f\"s3://{bucket}/data/crypto_data/ohlc_data\",\r\n",
    "            database_name=\"crypto_data\", table_name='ohlc_data',\r\n",
    "            col_partition=['partition_column'])"
   ]
  },
  {
   "cell_type": "code",
   "execution_count": 34,
   "metadata": {},
   "outputs": [],
   "source": [
    "params_tweets = {\n",
    "        'Bucket' : bucket,\n",
    "        'Prefix' : \"data/daily_tweets/\"\n",
    "        }"
   ]
  },
  {
   "cell_type": "code",
   "execution_count": 35,
   "metadata": {},
   "outputs": [],
   "source": [
    "def get_latest_tweets(operation_parameters, s3=None):\r\n",
    "    \"\"\"\r\n",
    "    List files in specific S3 URL\r\n",
    "    \"\"\"\r\n",
    "    if not s3:\r\n",
    "        s3 = boto3.client('s3')\r\n",
    "    paginator = s3.get_paginator('list_objects_v2')\r\n",
    "    page_iterator = paginator.paginate(**operation_parameters)\r\n",
    "    for page in page_iterator:\r\n",
    "        for content in page.get('Contents'):\r\n",
    "            if content.get('LastModified') > utc.localize(datetime.now() - timedelta(days=4)):\r\n",
    "                yield content.get('Key')"
   ]
  },
  {
   "cell_type": "code",
   "execution_count": 36,
   "metadata": {},
   "outputs": [],
   "source": [
    "tweets = []\n",
    "for key in get_latest_tweets(params_tweets, s3_client):\n",
    "    tmp = get_json_s3(bucket, key, s3_client)\n",
    "    tweets.extend(tmp)\n"
   ]
  },
  {
   "cell_type": "code",
   "execution_count": 37,
   "metadata": {},
   "outputs": [],
   "source": [
    "df_tweets = pd.DataFrame(tweets)"
   ]
  },
  {
   "cell_type": "code",
   "execution_count": 38,
   "metadata": {},
   "outputs": [
    {
     "data": {
      "text/html": "<div>\n<style scoped>\n    .dataframe tbody tr th:only-of-type {\n        vertical-align: middle;\n    }\n\n    .dataframe tbody tr th {\n        vertical-align: top;\n    }\n\n    .dataframe thead th {\n        text-align: right;\n    }\n</style>\n<table border=\"1\" class=\"dataframe\">\n  <thead>\n    <tr style=\"text-align: right;\">\n      <th></th>\n      <th>id</th>\n      <th>created_at</th>\n      <th>ceil_datetime</th>\n      <th>month</th>\n      <th>weekday</th>\n      <th>day</th>\n      <th>hour</th>\n      <th>minute</th>\n      <th>QUERY</th>\n      <th>ticker</th>\n      <th>text</th>\n      <th>favorite_count</th>\n      <th>result_type</th>\n      <th>user_name</th>\n      <th>followers_count</th>\n      <th>retweet_count</th>\n      <th>partition_column</th>\n    </tr>\n  </thead>\n  <tbody>\n    <tr>\n      <th>0</th>\n      <td>1553003298109755392</td>\n      <td>2022-07-29 13:03:34</td>\n      <td>2022-07-29 13:15:00</td>\n      <td>7</td>\n      <td>5</td>\n      <td>29</td>\n      <td>13</td>\n      <td>15</td>\n      <td>bitcoin</td>\n      <td>BTC</td>\n      <td>Looking forward to giving one of my followers ...</td>\n      <td>2413</td>\n      <td>popular</td>\n      <td>MartiniGuyYT</td>\n      <td>390472</td>\n      <td>2052</td>\n      <td>2022-07-29</td>\n    </tr>\n    <tr>\n      <th>1</th>\n      <td>1552744653455335425</td>\n      <td>2022-07-28 19:55:48</td>\n      <td>2022-07-28 20:00:00</td>\n      <td>7</td>\n      <td>4</td>\n      <td>28</td>\n      <td>20</td>\n      <td>0</td>\n      <td>bitcoin</td>\n      <td>BTC</td>\n      <td>JUST IN: \"I buy #Bitcoin for the benefit of my...</td>\n      <td>3206</td>\n      <td>popular</td>\n      <td>BitcoinMagazine</td>\n      <td>2584271</td>\n      <td>634</td>\n      <td>2022-07-28</td>\n    </tr>\n    <tr>\n      <th>2</th>\n      <td>1553005848062038017</td>\n      <td>2022-07-29 13:13:42</td>\n      <td>2022-07-29 13:15:00</td>\n      <td>7</td>\n      <td>5</td>\n      <td>29</td>\n      <td>13</td>\n      <td>15</td>\n      <td>bitcoin</td>\n      <td>BTC</td>\n      <td>JUST IN: German retailer giant REWE installs #...</td>\n      <td>2877</td>\n      <td>popular</td>\n      <td>BitcoinMagazine</td>\n      <td>2584271</td>\n      <td>601</td>\n      <td>2022-07-29</td>\n    </tr>\n    <tr>\n      <th>3</th>\n      <td>1553168472267378688</td>\n      <td>2022-07-29 23:59:54</td>\n      <td>2022-07-30 00:00:00</td>\n      <td>7</td>\n      <td>6</td>\n      <td>30</td>\n      <td>0</td>\n      <td>0</td>\n      <td>bitcoin</td>\n      <td>BTC</td>\n      <td>$BTC Shorted(Sell)  [23:59:54 UTC]\\n23767.60 ...</td>\n      <td>0</td>\n      <td>recent</td>\n      <td>xCryptoAlert</td>\n      <td>28</td>\n      <td>0</td>\n      <td>2022-07-29</td>\n    </tr>\n    <tr>\n      <th>4</th>\n      <td>1553168467721097216</td>\n      <td>2022-07-29 23:59:53</td>\n      <td>2022-07-30 00:00:00</td>\n      <td>7</td>\n      <td>6</td>\n      <td>30</td>\n      <td>0</td>\n      <td>0</td>\n      <td>bitcoin</td>\n      <td>BTC</td>\n      <td>RT @AurelienOhayon: #BITCOIN IS READY FOR A MA...</td>\n      <td>0</td>\n      <td>recent</td>\n      <td>cbin10etin1</td>\n      <td>51</td>\n      <td>33</td>\n      <td>2022-07-29</td>\n    </tr>\n    <tr>\n      <th>...</th>\n      <td>...</td>\n      <td>...</td>\n      <td>...</td>\n      <td>...</td>\n      <td>...</td>\n      <td>...</td>\n      <td>...</td>\n      <td>...</td>\n      <td>...</td>\n      <td>...</td>\n      <td>...</td>\n      <td>...</td>\n      <td>...</td>\n      <td>...</td>\n      <td>...</td>\n      <td>...</td>\n      <td>...</td>\n    </tr>\n    <tr>\n      <th>37646</th>\n      <td>1553848148619141120</td>\n      <td>2022-07-31 21:00:42</td>\n      <td>2022-07-31 21:15:00</td>\n      <td>7</td>\n      <td>0</td>\n      <td>31</td>\n      <td>21</td>\n      <td>15</td>\n      <td>Litecoin</td>\n      <td>LTC</td>\n      <td>RT @PhibbiX: 250$ Litecoin Giveaway \\n2 Winner...</td>\n      <td>0</td>\n      <td>recent</td>\n      <td>adhyrhiry</td>\n      <td>9</td>\n      <td>330</td>\n      <td>2022-07-31</td>\n    </tr>\n    <tr>\n      <th>37647</th>\n      <td>1553848127492427777</td>\n      <td>2022-07-31 21:00:37</td>\n      <td>2022-07-31 21:15:00</td>\n      <td>7</td>\n      <td>0</td>\n      <td>31</td>\n      <td>21</td>\n      <td>15</td>\n      <td>Litecoin</td>\n      <td>LTC</td>\n      <td>The current LTCBTC ratio is 0.00260400\\n\\nLite...</td>\n      <td>0</td>\n      <td>recent</td>\n      <td>masterltcbtcbot</td>\n      <td>661</td>\n      <td>0</td>\n      <td>2022-07-31</td>\n    </tr>\n    <tr>\n      <th>37648</th>\n      <td>1553848099793158144</td>\n      <td>2022-07-31 21:00:30</td>\n      <td>2022-07-31 21:15:00</td>\n      <td>7</td>\n      <td>0</td>\n      <td>31</td>\n      <td>21</td>\n      <td>15</td>\n      <td>Litecoin</td>\n      <td>LTC</td>\n      <td>Bitcoin  -  $23821.0  (23324.0)\\nEthereum  -  ...</td>\n      <td>0</td>\n      <td>recent</td>\n      <td>CryptoBotPrice</td>\n      <td>188</td>\n      <td>0</td>\n      <td>2022-07-31</td>\n    </tr>\n    <tr>\n      <th>37649</th>\n      <td>1553848092063055878</td>\n      <td>2022-07-31 21:00:28</td>\n      <td>2022-07-31 21:15:00</td>\n      <td>7</td>\n      <td>0</td>\n      <td>31</td>\n      <td>21</td>\n      <td>15</td>\n      <td>Litecoin</td>\n      <td>LTC</td>\n      <td>@mirandalambert @MuttNation @thespringpoint #v...</td>\n      <td>2</td>\n      <td>recent</td>\n      <td>Litecoin_______</td>\n      <td>692</td>\n      <td>0</td>\n      <td>2022-07-31</td>\n    </tr>\n    <tr>\n      <th>37650</th>\n      <td>1553848062543630341</td>\n      <td>2022-07-31 21:00:21</td>\n      <td>2022-07-31 21:15:00</td>\n      <td>7</td>\n      <td>0</td>\n      <td>31</td>\n      <td>21</td>\n      <td>15</td>\n      <td>Litecoin</td>\n      <td>LTC</td>\n      <td>Decentralized Samourai lambo proof of work sma...</td>\n      <td>0</td>\n      <td>recent</td>\n      <td>LoremCrypto</td>\n      <td>101</td>\n      <td>0</td>\n      <td>2022-07-31</td>\n    </tr>\n  </tbody>\n</table>\n<p>37651 rows × 17 columns</p>\n</div>",
      "text/plain": "                        id           created_at        ceil_datetime  month  \\\n0      1553003298109755392  2022-07-29 13:03:34  2022-07-29 13:15:00      7   \n1      1552744653455335425  2022-07-28 19:55:48  2022-07-28 20:00:00      7   \n2      1553005848062038017  2022-07-29 13:13:42  2022-07-29 13:15:00      7   \n3      1553168472267378688  2022-07-29 23:59:54  2022-07-30 00:00:00      7   \n4      1553168467721097216  2022-07-29 23:59:53  2022-07-30 00:00:00      7   \n...                    ...                  ...                  ...    ...   \n37646  1553848148619141120  2022-07-31 21:00:42  2022-07-31 21:15:00      7   \n37647  1553848127492427777  2022-07-31 21:00:37  2022-07-31 21:15:00      7   \n37648  1553848099793158144  2022-07-31 21:00:30  2022-07-31 21:15:00      7   \n37649  1553848092063055878  2022-07-31 21:00:28  2022-07-31 21:15:00      7   \n37650  1553848062543630341  2022-07-31 21:00:21  2022-07-31 21:15:00      7   \n\n       weekday  day  hour  minute     QUERY ticker  \\\n0            5   29    13      15   bitcoin    BTC   \n1            4   28    20       0   bitcoin    BTC   \n2            5   29    13      15   bitcoin    BTC   \n3            6   30     0       0   bitcoin    BTC   \n4            6   30     0       0   bitcoin    BTC   \n...        ...  ...   ...     ...       ...    ...   \n37646        0   31    21      15  Litecoin    LTC   \n37647        0   31    21      15  Litecoin    LTC   \n37648        0   31    21      15  Litecoin    LTC   \n37649        0   31    21      15  Litecoin    LTC   \n37650        0   31    21      15  Litecoin    LTC   \n\n                                                    text  favorite_count  \\\n0      Looking forward to giving one of my followers ...            2413   \n1      JUST IN: \"I buy #Bitcoin for the benefit of my...            3206   \n2      JUST IN: German retailer giant REWE installs #...            2877   \n3       $BTC Shorted(Sell)  [23:59:54 UTC]\\n23767.60 ...               0   \n4      RT @AurelienOhayon: #BITCOIN IS READY FOR A MA...               0   \n...                                                  ...             ...   \n37646  RT @PhibbiX: 250$ Litecoin Giveaway \\n2 Winner...               0   \n37647  The current LTCBTC ratio is 0.00260400\\n\\nLite...               0   \n37648  Bitcoin  -  $23821.0  (23324.0)\\nEthereum  -  ...               0   \n37649  @mirandalambert @MuttNation @thespringpoint #v...               2   \n37650  Decentralized Samourai lambo proof of work sma...               0   \n\n      result_type        user_name  followers_count  retweet_count  \\\n0         popular     MartiniGuyYT           390472           2052   \n1         popular  BitcoinMagazine          2584271            634   \n2         popular  BitcoinMagazine          2584271            601   \n3          recent     xCryptoAlert               28              0   \n4          recent      cbin10etin1               51             33   \n...           ...              ...              ...            ...   \n37646      recent        adhyrhiry                9            330   \n37647      recent  masterltcbtcbot              661              0   \n37648      recent   CryptoBotPrice              188              0   \n37649      recent  Litecoin_______              692              0   \n37650      recent      LoremCrypto              101              0   \n\n      partition_column  \n0           2022-07-29  \n1           2022-07-28  \n2           2022-07-29  \n3           2022-07-29  \n4           2022-07-29  \n...                ...  \n37646       2022-07-31  \n37647       2022-07-31  \n37648       2022-07-31  \n37649       2022-07-31  \n37650       2022-07-31  \n\n[37651 rows x 17 columns]"
     },
     "execution_count": 38,
     "metadata": {},
     "output_type": "execute_result"
    }
   ],
   "source": [
    "df_tweets['partition_column'] = pd.to_datetime(df_tweets['created_at']).dt.strftime('%Y-%m-%d')\n",
    "df_tweets"
   ]
  },
  {
   "cell_type": "code",
   "execution_count": 40,
   "metadata": {},
   "outputs": [
    {
     "data": {
      "text/plain": "id                   int64\ncreated_at          object\nceil_datetime       object\nmonth                int64\nweekday              int64\nday                  int64\nhour                 int64\nminute               int64\nQUERY               object\nticker              object\ntext                object\nfavorite_count       int64\nresult_type         object\nuser_name           object\nfollowers_count      int64\nretweet_count        int64\npartition_column    object\ndtype: object"
     },
     "execution_count": 40,
     "metadata": {},
     "output_type": "execute_result"
    }
   ],
   "source": [
    "df_tweets.dtypes"
   ]
  },
  {
   "cell_type": "code",
   "execution_count": 41,
   "metadata": {},
   "outputs": [],
   "source": [
    "columns_types_dict = {\r\n",
    "    'id' : 'bigint',\r\n",
    "    'created_at': 'date',\r\n",
    "    'ceil_datetime': 'date',\r\n",
    "    'month': 'int',\r\n",
    "    'weekday': 'int',\r\n",
    "    'day': 'int',\r\n",
    "    'hour': 'int',\r\n",
    "    'minute': 'int',\r\n",
    "    'QUERY': 'string',\r\n",
    "    'ticker': 'string',\r\n",
    "    'text': 'string',\r\n",
    "    'favorite_count': 'int',\r\n",
    "    'result_type': 'string',\r\n",
    "    'user_name': 'string',\r\n",
    "    'followers_count': 'int',\r\n",
    "    'retweet_count': 'int',\r\n",
    "}\r\n",
    "\r\n",
    "wr.catalog.create_parquet_table(\r\n",
    "    database='crypto_data',\r\n",
    "    table='tweets_data',\r\n",
    "    path=f's3://{bucket}/data/crypto_data/tweets_data',\r\n",
    "    columns_types=columns_types_dict,\r\n",
    "    partitions_types={'partition_column' : 'string'},\r\n",
    "    compression='snappy',\r\n",
    "    description='tweet_test_table',\r\n",
    "    boto3_session=session\r\n",
    ")"
   ]
  },
  {
   "cell_type": "code",
   "execution_count": 42,
   "metadata": {},
   "outputs": [
    {
     "name": "stdout",
     "output_type": "stream",
     "text": [
      "CPU times: total: 0 ns\n",
      "Wall time: 0 ns\n"
     ]
    }
   ],
   "source": [
    "%time\r\n",
    "write_to_glue(df_tweets, path_table=f\"s3://{bucket}/data/crypto_data/tweets_data\",\r\n",
    "            database_name=\"crypto_data\", table_name='tweets_data',\r\n",
    "            col_partition=['partition_column'])"
   ]
  },
  {
   "cell_type": "code",
   "execution_count": null,
   "metadata": {},
   "outputs": [],
   "source": []
  }
 ],
 "metadata": {
  "kernelspec": {
   "display_name": "Python 3.9.4 64-bit",
   "metadata": {
    "interpreter": {
     "hash": "ac59ebe37160ed0dfa835113d9b8498d9f09ceb179beaac4002f036b9467c963"
    }
   },
   "name": "python3"
  },
  "language_info": {
   "codemirror_mode": {
    "name": "ipython",
    "version": 3
   },
   "file_extension": ".py",
   "mimetype": "text/x-python",
   "name": "python",
   "nbconvert_exporter": "python",
   "pygments_lexer": "ipython3",
   "version": "3.9.4"
  },
  "orig_nbformat": 2,
  "vscode": {
   "interpreter": {
    "hash": "b60e44f8122f2f435490d6fa5dce1b580a7583eee9b12ed3a9c2b1ff149db1ba"
   }
  }
 },
 "nbformat": 4,
 "nbformat_minor": 2
}